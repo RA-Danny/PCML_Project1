{
 "cells": [
  {
   "cell_type": "code",
   "execution_count": 22,
   "metadata": {
    "collapsed": false
   },
   "outputs": [
    {
     "name": "stdout",
     "output_type": "stream",
     "text": [
      "The autoreload extension is already loaded. To reload it, use:\n",
      "  %reload_ext autoreload\n"
     ]
    }
   ],
   "source": [
    "# Useful starting lines\n",
    "%matplotlib inline\n",
    "import numpy as np\n",
    "import matplotlib.pyplot as plt\n",
    "from helpers import *\n",
    "%load_ext autoreload\n",
    "%autoreload 2\n",
    "from implementations import *"
   ]
  },
  {
   "cell_type": "markdown",
   "metadata": {},
   "source": [
    "## Load the training data into feature matrix, class labels, and event ids:"
   ]
  },
  {
   "cell_type": "code",
   "execution_count": 2,
   "metadata": {
    "collapsed": false
   },
   "outputs": [],
   "source": [
    "from proj1_helpers import *\n",
    "DATA_TRAIN_PATH = '../data/train.csv'\n",
    "y, tX, ids = load_csv_data(DATA_TRAIN_PATH)"
   ]
  },
  {
   "cell_type": "markdown",
   "metadata": {},
   "source": [
    "## Do your thing crazy machine learning thing here :) ..."
   ]
  },
  {
   "cell_type": "markdown",
   "metadata": {},
   "source": [
    "## Cleaning of data and visualisation"
   ]
  },
  {
   "cell_type": "code",
   "execution_count": 3,
   "metadata": {
    "collapsed": false,
    "scrolled": true
   },
   "outputs": [],
   "source": [
    "#Clean data\n",
    "\n",
    "#a = np.array([[3.0,8.0,5.0,-999.0,1.0],[7.0,4.0,1.0,3.0,8.0]])\n",
    "\n",
    "#remove -999 to the mean of the colum\n",
    "for column in tX.T:\n",
    "    clean = column[np.where(column != -999)]\n",
    "    mean = np.mean(clean)\n",
    "    column[np.where(column == -999)] = mean\n",
    "    \n",
    "standard_data = standardize(tX)\n",
    "tX_clean = standard_data[0]\n",
    "means = standard_data[1]\n",
    "variances = standard_data[2]\n"
   ]
  },
  {
   "cell_type": "code",
   "execution_count": 110,
   "metadata": {
    "collapsed": false
   },
   "outputs": [
    {
     "name": "stdout",
     "output_type": "stream",
     "text": [
      "(array([ 0,  1,  2,  3,  4,  5,  6,  8,  9, 10, 11, 13, 14, 15, 16, 17, 18,\n",
      "       19, 20, 21, 22, 23, 24, 25, 26, 27, 28, 29]),)\n",
      "(1, 28)\n"
     ]
    }
   ],
   "source": [
    "var_to_remove = np.where(variances>0.8)\n",
    "print(var_to_remove)\n",
    "print(np.shape(var_to_remove))\n",
    "#tX_clean = tX_clean[:,13:]\n",
    "#print(np.shape(tX_clean))"
   ]
  },
  {
   "cell_type": "code",
   "execution_count": 60,
   "metadata": {
    "collapsed": false
   },
   "outputs": [
    {
     "name": "stdout",
     "output_type": "stream",
     "text": [
      "c [2, 3]\n",
      "c [3, 2]\n",
      "c [4, 9]\n",
      "c [6, 6]\n",
      "c [9, 4]\n",
      "[[ 1.  2.  3.  4.  6.  9.]\n",
      " [ 1.  3.  2.  9.  6.  4.]]\n"
     ]
    }
   ],
   "source": [
    "degree = 3\n",
    "a = np.array([2,3])\n",
    "c = build_poly2(a,degree)\n",
    "print(c)"
   ]
  },
  {
   "cell_type": "code",
   "execution_count": null,
   "metadata": {
    "collapsed": true
   },
   "outputs": [],
   "source": []
  },
  {
   "cell_type": "code",
   "execution_count": null,
   "metadata": {
    "collapsed": true
   },
   "outputs": [],
   "source": []
  },
  {
   "cell_type": "code",
   "execution_count": 21,
   "metadata": {
    "collapsed": false
   },
   "outputs": [
    {
     "name": "stdout",
     "output_type": "stream",
     "text": [
      "[[ 1  2  3  4]\n",
      " [ 4  5  6  7]\n",
      " [ 7  8  9 10]]\n",
      "[[ 2  3  4]\n",
      " [ 5  6  7]\n",
      " [ 8  9 10]]\n"
     ]
    }
   ],
   "source": [
    "a = np.array([[1,2,3,4],[4,5,6,7],[7,8,9,10]])\n",
    "print(a)\n",
    "b = a[:,1:]\n",
    "print(b)"
   ]
  },
  {
   "cell_type": "code",
   "execution_count": 112,
   "metadata": {
    "collapsed": false
   },
   "outputs": [
    {
     "name": "stderr",
     "output_type": "stream",
     "text": [
      "/Users/Mick/anaconda/lib/python3.5/site-packages/numpy/lib/shape_base.py:422: VisibleDeprecationWarning: using a non-integer number instead of an integer will result in an error in the future\n",
      "  sub_arys.append(_nx.swapaxes(sary[st:end], axis, 0))\n"
     ]
    }
   ],
   "source": [
    "#split data\n",
    "ratio = 0.8\n",
    "#60% train, 20%test, 20%cross\n",
    "\n",
    "#test_x = np.array([1,2,3,4,5,6,7,8,9,10])\n",
    "#test_y = np.array([1,1,1,1,1,-1,1,-1,-1,-1])\n",
    "#x_train, x_test, y_train,y_test  = split_data(test_y,test_x,ratio)\n",
    "\n",
    "x_train, x_test, y_train,y_test = split_data(y,tX_clean,ratio)\n"
   ]
  },
  {
   "cell_type": "markdown",
   "metadata": {},
   "source": [
    "## Test of the different methods"
   ]
  },
  {
   "cell_type": "code",
   "execution_count": 21,
   "metadata": {
    "collapsed": false
   },
   "outputs": [
    {
     "name": "stdout",
     "output_type": "stream",
     "text": [
      "mse train 0.390274194423\n",
      "mse test 0.388536456197\n"
     ]
    }
   ],
   "source": [
    "#*********************** least squares *******************#\n",
    "#mse,weight = least_squares(y,tX)\n",
    "mse_train,weight = least_squares(y_train,x_train)\n",
    "mse_test = compute_loss(y_test,x_test,weight)\n",
    "print(\"mse train\",mse_train)\n",
    "print(\"mse test\",mse_test)"
   ]
  },
  {
   "cell_type": "code",
   "execution_count": 22,
   "metadata": {
    "collapsed": false
   },
   "outputs": [
    {
     "name": "stdout",
     "output_type": "stream",
     "text": [
      "[-1. -1.  1. ..., -1. -1. -1.]\n",
      "[-1. -1. -1. ..., -1. -1. -1.]\n",
      "[ 1.  1. -1. ...,  1.  1.  1.]\n",
      "(1, 36015)\n",
      "(50000,)\n",
      "Correct pourcentage predition = 0.7203\n"
     ]
    }
   ],
   "source": [
    "y_pred = predict_labels(weight, x_test)\n",
    "y_t = y_test * y_pred\n",
    "y_correct = np.where(y_t==1)\n",
    "print(np.shape(y_correct))\n",
    "print(np.shape(y_test))\n",
    "print('Correct pourcentage predition =',np.shape(y_correct)[1]/np.shape(y_test)[0])\n"
   ]
  },
  {
   "cell_type": "code",
   "execution_count": 6,
   "metadata": {
    "collapsed": false
   },
   "outputs": [
    {
     "name": "stdout",
     "output_type": "stream",
     "text": [
      "0.431557975106\n",
      "[ -1.56872990e-02  -1.77467339e-01  -2.23129267e-02   5.28241154e-02\n",
      "   7.38142343e-02   6.05938350e-03  -5.58950539e-02   6.99799884e-02\n",
      "  -6.89922633e-02   2.20582638e-02  -1.44904682e-01   2.73373001e-01\n",
      "   1.76367922e-02   1.87879070e-01  -7.71996721e-04  -3.67153246e-03\n",
      "   1.37182515e-01  -1.51167199e-03   2.35028825e-03   1.02035705e-02\n",
      "   7.07541588e-03   1.33374917e-02   5.61119888e-02   6.09354768e-02\n",
      "  -3.41629615e-05   4.74992022e-04  -5.15019289e-03   2.53748782e-03\n",
      "   4.27539944e-04   1.39640152e-02]\n"
     ]
    }
   ],
   "source": [
    "#******************** gradient descent *******************#\n",
    "w_initial = np.zeros([tX.shape[1]])\n",
    "max_iters = 500\n",
    "gamma = 0.08\n",
    "mse,weight = least_squares_GD(y_train,x_train,w_initial,max_iters,gamma)\n",
    "print(mse)\n",
    "print(weight)"
   ]
  },
  {
   "cell_type": "code",
   "execution_count": 7,
   "metadata": {
    "collapsed": false,
    "scrolled": false
   },
   "outputs": [
    {
     "name": "stdout",
     "output_type": "stream",
     "text": [
      "0.41435125529\n",
      "[ -1.56872990e-02  -1.77467339e-01  -2.23129267e-02   5.28241154e-02\n",
      "   7.38142343e-02   6.05938350e-03  -5.58950539e-02   6.99799884e-02\n",
      "  -6.89922633e-02   2.20582638e-02  -1.44904682e-01   2.73373001e-01\n",
      "   1.76367922e-02   1.87879070e-01  -7.71996721e-04  -3.67153246e-03\n",
      "   1.37182515e-01  -1.51167199e-03   2.35028825e-03   1.02035705e-02\n",
      "   7.07541588e-03   1.33374917e-02   5.61119888e-02   6.09354768e-02\n",
      "  -3.41629615e-05   4.74992022e-04  -5.15019289e-03   2.53748782e-03\n",
      "   4.27539944e-04   1.39640152e-02]\n"
     ]
    }
   ],
   "source": [
    "#************** stochastic gradient descent ****************#\n",
    "w_initial = np.zeros([x_train.shape[1]])\n",
    "batch_size = 32\n",
    "max_iters = 1000\n",
    "gamma = 0.01\n",
    "mse_SGD,weight_SGD = least_squares_SGD(y_train,x_train,w_initial,batch_size,max_iters,gamma)\n",
    "print(mse_SGD)\n",
    "print(weight)"
   ]
  },
  {
   "cell_type": "markdown",
   "metadata": {},
   "source": [
    "# ridge regression"
   ]
  },
  {
   "cell_type": "code",
   "execution_count": 113,
   "metadata": {
    "collapsed": false
   },
   "outputs": [
    {
     "name": "stdout",
     "output_type": "stream",
     "text": [
      "degree:  1\n",
      "1 --> 0.340738098775  AND  0.340891637609\n",
      "degree:  2\n",
      "2 --> 0.315651464192  AND  0.316848374837\n",
      "degree:  3\n",
      "3 --> 0.305516492001  AND  0.314714588853\n",
      "degree:  4\n",
      "4 --> 0.299811031201  AND  0.349001718766\n",
      "degree:  5\n",
      "5 --> 0.296859663236  AND  0.404972180801\n"
     ]
    },
    {
     "data": {
      "image/png": "[encoded data removed]",
      "text/plain": [
       "<matplotlib.figure.Figure at 0x10dd0cdd8>"
      ]
     },
     "metadata": {},
     "output_type": "display_data"
    }
   ],
   "source": [
    "#model validation\n",
    "\n",
    "degrees = range(1,6)\n",
    "k_fold = 4\n",
    "lambda_ = 0.01\n",
    "mean_train_mse = []\n",
    "mean_cv_mse = []\n",
    "\n",
    "k_indices = build_k_indices(y_train, k_fold,seed = 1)\n",
    "for degree in degrees:\n",
    "    print(\"degree: \",degree)\n",
    "    \n",
    "    train_mse = []\n",
    "    cv_mse = []\n",
    "    #k fold\n",
    "    for k in range(k_fold):\n",
    "        x_cv = x_train[k_indices[k]]\n",
    "        y_cv = y_train[k_indices[k]]\n",
    "        #remove\n",
    "        rem_indice = k_indices[~(np.arange(k_indices.shape[0])==k)]\n",
    "        #set them in a vector\n",
    "        rem_indice = rem_indice.reshape(-1)\n",
    "        x_train_fold = x_train[rem_indice]\n",
    "        y_train_fold = y_train[rem_indice]\n",
    "\n",
    "        #get the ones in the matrix\n",
    "        x_train_poly = build_poly(x_train_fold,degree)\n",
    "        x_cv_poly = build_poly(x_cv,degree)\n",
    "        \n",
    "        mse_train,w = ridge_regression(y_train_fold, x_train_poly, lambda_)\n",
    "        mse_cv = compute_loss(y_cv,x_cv_poly,w)\n",
    "        \n",
    "        train_mse.append(mse_train)\n",
    "        cv_mse.append(mse_cv)\n",
    "        \n",
    "    mean_train_mse.append(np.mean(train_mse))\n",
    "    mean_cv_mse.append(np.mean(cv_mse))\n",
    "    \n",
    "    print(degree,'-->',np.mean(train_mse),' AND ', np.mean(cv_mse))\n",
    "    \n",
    "p = plt.plot(degrees,mean_train_mse,degrees,mean_cv_mse)\n",
    "plt.title(\"Model Validation\") \n",
    "plt.legend(p, [\"Training error\",\"Validation error\"])\n",
    "plt.show()\n"
   ]
  },
  {
   "cell_type": "code",
   "execution_count": 117,
   "metadata": {
    "collapsed": false
   },
   "outputs": [
    {
     "name": "stdout",
     "output_type": "stream",
     "text": [
      "labda:  0.001\n",
      "0.001 --> 0.304393802915  AND  0.31665576942\n",
      "labda:  0.00215443469003\n",
      "0.00215443469003 --> 0.304490608869  AND  0.316206859643\n",
      "labda:  0.00464158883361\n",
      "0.00464158883361 --> 0.304784161627  AND  0.315512290202\n",
      "labda:  0.01\n",
      "0.01 --> 0.305516492001  AND  0.314714588853\n",
      "labda:  0.0215443469003\n",
      "0.0215443469003 --> 0.306919676698  AND  0.314169485355\n",
      "labda:  0.0464158883361\n",
      "0.0464158883361 --> 0.309028232169  AND  0.31416419945\n",
      "labda:  0.1\n",
      "0.1 --> 0.312102840081  AND  0.315153732773\n",
      "labda:  0.215443469003\n",
      "0.215443469003 --> 0.317501025723  AND  0.318891000719\n",
      "labda:  0.464158883361\n",
      "0.464158883361 --> 0.327402309103  AND  0.328057435659\n",
      "labda:  1.0\n",
      "1.0 --> 0.342842832425  AND  0.343365704218\n"
     ]
    },
    {
     "data": {
      "image/png": "[encoded data removed]",
      "text/plain": [
       "<matplotlib.figure.Figure at 0x140771358>"
      ]
     },
     "metadata": {},
     "output_type": "display_data"
    }
   ],
   "source": [
    "#lambda validation\n",
    "\n",
    "lambdas = np.logspace(-3, -0, 10)\n",
    "k_fold = 4\n",
    "degree = 3\n",
    "mean_train_mse = []\n",
    "mean_cv_mse = []\n",
    "\n",
    "k_indices = build_k_indices(y_train, k_fold,seed = 1)\n",
    "for lamb in lambdas:\n",
    "    print(\"labda: \",lamb)\n",
    "    train_mse = []\n",
    "    cv_mse = []\n",
    "    #k fold\n",
    "    for k in range(k_fold):\n",
    "        x_cv = x_train[k_indices[k]]\n",
    "        y_cv = y_train[k_indices[k]]\n",
    "        #remove\n",
    "        rem_indice = k_indices[~(np.arange(k_indices.shape[0])==k)]\n",
    "        #set them in a vector\n",
    "        rem_indice = rem_indice.reshape(-1)\n",
    "        x_train_fold = x_train[rem_indice]\n",
    "        y_train_fold = y_train[rem_indice]\n",
    "    \n",
    "        #get the ones in the matrix\n",
    "        x_train_poly = build_poly(x_train_fold,degree)\n",
    "        x_cv_poly = build_poly(x_cv,degree)\n",
    "        \n",
    "        mse_train,w = ridge_regression(y_train_fold, x_train_poly, lamb)\n",
    "        mse_cv = compute_loss(y_cv,x_cv_poly,w)\n",
    "        \n",
    "        train_mse.append(mse_train)\n",
    "        cv_mse.append(mse_cv)\n",
    "        \n",
    "    mean_train_mse.append(np.mean(train_mse))\n",
    "    mean_cv_mse.append(np.mean(cv_mse))\n",
    "    \n",
    "    print(lamb,'-->',np.mean(train_mse),' AND ', np.mean(cv_mse))\n",
    "        \n",
    "    \n",
    "p=plt.semilogx(lambdas,mean_train_mse,lambdas,mean_cv_mse)\n",
    "plt.title(\"Lambda validation\") \n",
    "plt.legend(p, [\"Training error\",\"Validation error\"])\n",
    "plt.xlabel('Lambdas')\n",
    "plt.ylabel('mse')\n",
    "plt.show()\n"
   ]
  },
  {
   "cell_type": "code",
   "execution_count": 14,
   "metadata": {
    "collapsed": false
   },
   "outputs": [
    {
     "name": "stdout",
     "output_type": "stream",
     "text": [
      "iteration:  0  Test accuracy:  0.47904  Loss :  0.497815041756\n",
      "[0.4978150417560358]\n",
      "[array([-0.04151525,  0.00262941, -0.04030489,  0.01773837,  0.04889918,\n",
      "        0.00797091, -0.04238355, -0.00549941, -0.02886223,  0.0242896 ,\n",
      "        0.00695057, -0.03946645,  0.0114673 ,  0.00512824, -0.02835869,\n",
      "       -0.00866736, -0.03441473, -0.00543211,  0.02706349, -0.04122815,\n",
      "       -0.0346376 , -0.00588219, -0.00194977,  0.01525662, -0.04859504,\n",
      "       -0.00440709, -0.0293567 , -0.02709289,  0.03793297,  0.04623623]), array([-0.04151524,  0.0026294 , -0.04030489,  0.01773837,  0.04889934,\n",
      "        0.00797091, -0.04238362, -0.0054994 , -0.02886223,  0.02428961,\n",
      "        0.00695036, -0.03946623,  0.01146793,  0.00512825, -0.0283587 ,\n",
      "       -0.00866736, -0.03441473, -0.00543211,  0.0270635 , -0.04122815,\n",
      "       -0.03463759, -0.00588218, -0.00194963,  0.01525662, -0.04859503,\n",
      "       -0.00440709, -0.0293567 , -0.02709288,  0.03793296,  0.04623623])]\n"
     ]
    }
   ],
   "source": [
    "#************** logistic regression ****************#\n",
    "max_iters = 1\n",
    "gamma = 0.000001\n",
    "lambda_ = 0.016\n",
    "mse,weight = reg_logistic_regression(y_test, x_test, lambda_, gamma, max_iters)\n",
    "print(mse)\n",
    "print(weight)"
   ]
  },
  {
   "cell_type": "code",
   "execution_count": 118,
   "metadata": {
    "collapsed": false
   },
   "outputs": [
    {
     "name": "stdout",
     "output_type": "stream",
     "text": [
      "mse train 0.309254866878\n",
      "mse test 21.0128243518\n",
      "(1, 38983)\n",
      "(50000,)\n",
      "Correct pourcentage predition = 0.77966\n"
     ]
    }
   ],
   "source": [
    "#best parameters\n",
    "\n",
    "#With all columns + ones\n",
    "degree = 3\n",
    "lambda_ = 0.0464158883361\n",
    "\n",
    "#with columns without 1 to 13 + ones\n",
    "#degree = 2\n",
    "#lambda_ = 0.003\n",
    "x_train_poly = build_poly(x_train,degree)\n",
    "x_test_poly = build_poly(x_test,degree)\n",
    "\n",
    "mse_train,weight = ridge_regression(y_train,x_train_poly, lambda_)\n",
    "mse_test = compute_loss(y_test,x_test_poly,weight)\n",
    "print(\"mse train\",mse_train)\n",
    "print(\"mse test\",mse_test)\n",
    "\n",
    "y_pred = predict_labels(weight, x_test_poly)\n",
    "y_t = y_test * y_pred\n",
    "y_correct = np.where(y_t==1)\n",
    "print(np.shape(y_correct))\n",
    "print(np.shape(y_test))\n",
    "print('Correct pourcentage predition =',np.shape(y_correct)[1]/np.shape(y_test)[0])\n",
    "\n"
   ]
  },
  {
   "cell_type": "markdown",
   "metadata": {},
   "source": [
    "## Test of methods"
   ]
  },
  {
   "cell_type": "code",
   "execution_count": 10,
   "metadata": {
    "collapsed": false
   },
   "outputs": [
    {
     "name": "stdout",
     "output_type": "stream",
     "text": [
      "(124,)\n",
      "0.309254087517\n"
     ]
    }
   ],
   "source": [
    "#calculate pourcentage of prediction\n",
    "best_degree = 3\n",
    "lambda_ = 0.0464158883361\n",
    "\n",
    "x_train_poly = build_poly(tX_clean,best_degree)\n",
    "\n",
    "mse_train,weights = ridge_regression(y,x_train_poly, lambda_)\n",
    "print(np.shape(weights))\n",
    "print(mse_train)"
   ]
  },
  {
   "cell_type": "markdown",
   "metadata": {},
   "source": [
    "## Generate predictions and save ouput in csv format for submission:"
   ]
  },
  {
   "cell_type": "code",
   "execution_count": 15,
   "metadata": {
    "collapsed": false
   },
   "outputs": [],
   "source": [
    "DATA_TEST_PATH = '../data/test.csv' # download train data and supply path here \n",
    "_, tX_test, ids_test = load_csv_data(DATA_TEST_PATH)"
   ]
  },
  {
   "cell_type": "code",
   "execution_count": 16,
   "metadata": {
    "collapsed": false
   },
   "outputs": [
    {
     "name": "stdout",
     "output_type": "stream",
     "text": [
      "(568238, 31)\n",
      "(568238, 124)\n"
     ]
    }
   ],
   "source": [
    "for column in tX_test.T:\n",
    "    clean = column[np.where(column != -999)]\n",
    "    mean = np.mean(clean)\n",
    "    column[np.where(column == -999)] = mean\n",
    "    \n",
    "standard_test_data = standardize(tX_test)\n",
    "tX_test_clean = standard_test_data[0]\n",
    "print(np.shape(tX_test_clean))\n",
    "tX_test_clean_poly = build_poly(tX_test_clean,best_degree)\n",
    "print(np.shape(tX_test_clean_poly))"
   ]
  },
  {
   "cell_type": "code",
   "execution_count": 17,
   "metadata": {
    "collapsed": false
   },
   "outputs": [],
   "source": [
    "OUTPUT_PATH = '../submission4.csv' #  fill in desired name of output file for submission\n",
    "y_pred = predict_labels(weights, tX_test_clean_poly)\n",
    "create_csv_submission(ids_test, y_pred, OUTPUT_PATH)"
   ]
  },
  {
   "cell_type": "code",
   "execution_count": null,
   "metadata": {
    "collapsed": true
   },
   "outputs": [],
   "source": []
  }
 ],
 "metadata": {
  "anaconda-cloud": {},
  "kernelspec": {
   "display_name": "Python [conda root]",
   "language": "python",
   "name": "conda-root-py"
  },
  "language_info": {
   "codemirror_mode": {
    "name": "ipython",
    "version": 3
   },
   "file_extension": ".py",
   "mimetype": "text/x-python",
   "name": "python",
   "nbconvert_exporter": "python",
   "pygments_lexer": "ipython3",
   "version": "3.5.2"
  }
 },
 "nbformat": 4,
 "nbformat_minor": 0
}
