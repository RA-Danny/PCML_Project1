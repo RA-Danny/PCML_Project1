{
 "cells": [
  {
   "cell_type": "code",
   "execution_count": 1,
   "metadata": {
    "collapsed": false
   },
   "outputs": [],
   "source": [
    "# Useful starting lines\n",
    "%matplotlib inline\n",
    "import numpy as np\n",
    "import matplotlib.pyplot as plt\n",
    "%load_ext autoreload\n",
    "%autoreload 2"
   ]
  },
  {
   "cell_type": "markdown",
   "metadata": {},
   "source": [
    "## Load the training data into feature matrix, class labels, and event ids:"
   ]
  },
  {
   "cell_type": "code",
   "execution_count": 3,
   "metadata": {
    "collapsed": false
   },
   "outputs": [],
   "source": [
    "from proj1_helpers import *\n",
    "DATA_TRAIN_PATH = '../data/train.csv'\n",
    "y, tX, ids = load_csv_data(DATA_TRAIN_PATH)"
   ]
  },
  {
   "cell_type": "markdown",
   "metadata": {},
   "source": [
    "## Do your thing crazy machine learning thing here :) ..."
   ]
  },
  {
   "cell_type": "code",
   "execution_count": 4,
   "metadata": {
    "collapsed": true
   },
   "outputs": [],
   "source": [
    "def compute_loss(y, tx, w):\n",
    "    return np.sum(np.power(y- tx @ w,2))/(2*len(y))"
   ]
  },
  {
   "cell_type": "code",
   "execution_count": 5,
   "metadata": {
    "collapsed": true
   },
   "outputs": [],
   "source": [
    "def least_squares(y, tx):\n",
    "    weight = np.linalg.solve(tx.T @ tx,tx.T @ y)\n",
    "    mse = compute_loss(y,tx,weight)\n",
    "    return mse, weight"
   ]
  },
  {
   "cell_type": "code",
   "execution_count": 6,
   "metadata": {
    "collapsed": true
   },
   "outputs": [],
   "source": [
    "def compute_gradient(y, tx, w):\n",
    "    e = y - tx @ w;\n",
    "    return -(e @ tx)/len(tx);\n",
    "\n",
    "def least_squares_GD(y, tx, initial_w, max_iters, gamma): \n",
    "    \"\"\"Gradient descent algorithm.\"\"\"\n",
    "    # Define parameters to store w and loss\n",
    "    ws = [initial_w]\n",
    "    losses = []\n",
    "    w = initial_w\n",
    "    for n_iter in range(max_iters):\n",
    "        # ***************************************************\n",
    "        # INSERT YOUR CODE HERE\n",
    "        # TODO: compute gradient and loss\n",
    "        # ***************************************************\n",
    "        gradient = compute_gradient(y,tx,w);\n",
    "        loss = compute_loss(y,tx,w);\n",
    "        # ***************************************************\n",
    "        # INSERT YOUR CODE HERE\n",
    "        # TODO: update w by gradient\n",
    "        # ***************************************************\n",
    "        w = w  - gamma*gradient;\n",
    "        # store w and loss\n",
    "        ws.append(np.copy(w))\n",
    "        losses.append(loss)\n",
    "\n",
    "    return losses, ws\n",
    "    "
   ]
  },
  {
   "cell_type": "code",
   "execution_count": 7,
   "metadata": {
    "collapsed": false,
    "scrolled": true
   },
   "outputs": [
    {
     "name": "stdout",
     "output_type": "stream",
     "text": [
      "[[  5.96989378e-03   1.93329537e-03   9.98516196e-03 ...,   1.04511423e+00\n",
      "   -2.58203502e+00   4.20862660e-03]\n",
      " [  1.40441696e-02   1.56318494e-02   1.32293612e-02 ...,  -1.59307437e-17\n",
      "   -1.72035678e-17  -2.79364039e-03]\n",
      " [ -1.02143019e-17   9.03995546e-02   2.68576375e-02 ...,  -1.59307437e-17\n",
      "   -1.72035678e-17  -2.99921898e-03]\n",
      " ..., \n",
      " [ -5.89444357e-03   9.03432223e-03  -3.20519542e-03 ...,  -1.59307437e-17\n",
      "   -1.72035678e-17  -3.23435925e-03]\n",
      " [ -9.67012976e-03  -2.39164916e-02  -7.42061481e-03 ...,  -1.59307437e-17\n",
      "   -1.72035678e-17  -7.60532438e-03]\n",
      " [ -1.02143019e-17   1.88241496e-02  -6.20943909e-03 ...,  -1.59307437e-17\n",
      "   -1.72035678e-17  -7.60532438e-03]]\n"
     ]
    }
   ],
   "source": [
    "#Clean data\n",
    "\n",
    "#a = np.array([[3.0,8.0,5.0,-999.0,1.0],[7.0,4.0,1.0,2.0,6.0]])\n",
    "\n",
    "#remove -999 to the mean of the colum\n",
    "for column in tX.T:\n",
    "    clean = column[np.where(column != -999)]\n",
    "    mean = np.mean(clean)\n",
    "    column[np.where(column == -999)] = mean\n",
    "    \n",
    "tX_clean = tX\n",
    "for column in tX_clean.T:\n",
    "    mean = np.mean(column)\n",
    "    var = np.var(column)\n",
    "    if(var == 0):\n",
    "        var =1\n",
    "    column[:] = (column[:] - mean)/var\n"
   ]
  },
  {
   "cell_type": "code",
   "execution_count": 145,
   "metadata": {
    "collapsed": false,
    "scrolled": true
   },
   "outputs": [
    {
     "name": "stdout",
     "output_type": "stream",
     "text": [
      "0.38991616861\n",
      "0.38991616861\n",
      "[  5.08222097e-01  -9.00300387e+00  -1.07584597e+01  -7.01363484e-02\n",
      "   2.04988435e-02   1.92921914e+01   9.33521771e-03   2.20787357e-01\n",
      "  -6.27003319e-01  -3.81089031e+04  -1.58930593e-01   1.40920349e-01\n",
      "   1.64542195e-02   1.43396556e+03  -9.46324146e-04  -1.50910375e-03\n",
      "   1.39223926e+03  -1.08936158e-03   4.57406193e-03   3.40983436e+00\n",
      "   1.69222382e-03  -5.94570589e+00   4.08148906e-02  -2.23628996e+00\n",
      "   8.99758622e-04   2.65210390e-04  -6.30616007e-01   1.70555214e-03\n",
      "  -1.70612895e-03   2.73475607e+04]\n",
      "[  5.08222097e-01  -9.00300387e+00  -1.07584597e+01  -7.01363484e-02\n",
      "   2.04988435e-02   1.92921914e+01   9.33521771e-03   2.20787357e-01\n",
      "  -6.27003319e-01  -3.81089031e+04  -1.58930593e-01   1.40920349e-01\n",
      "   1.64542195e-02   1.43396556e+03  -9.46324146e-04  -1.50910375e-03\n",
      "   1.39223926e+03  -1.08936158e-03   4.57406193e-03   3.40983436e+00\n",
      "   1.69222382e-03  -5.94570589e+00   4.08148906e-02  -2.23628996e+00\n",
      "   8.99758622e-04   2.65210390e-04  -6.30616007e-01   1.70555214e-03\n",
      "  -1.70612895e-03   2.73475607e+04]\n",
      "[0.5, 0.48052223015109469, 0.475513025883605, 0.47124079028671118, 0.46745898645938122, 0.46410365435379042, 0.4611215800916289, 0.45846683816994221, 0.45609969017561247, 0.45398568063133238, 0.45209487455028335, 0.45040121301875058, 0.44888196748042841, 0.44751727670105151, 0.44628975311089686, 0.445184147464743, 0.44418706260973473, 0.44328670868129261, 0.44247269331292916, 0.44173584149446338, 0.44106804058298515, 0.44046210669347607, 0.43991166929699843, 0.43941107135498436, 0.43895528273578577, 0.43853982500855276, 0.43816070600146728, 0.43781436275605284, 0.43749761171469903, 0.43720760515126517, 0.43694179300013047, 0.43669788936181231, 0.43647384306704717, 0.43626781176909235, 0.43607813910853876, 0.43590333455826319, 0.43574205561006918, 0.4355930920105594, 0.43545535179307132, 0.43532784888614745, 0.4352096921078521, 0.43510007538002815, 0.43499826901790389, 0.43490361196885147, 0.43481550488996629, 0.43473340396787363, 0.43465681539606732, 0.43458529043541327, 0.43451842099243032, 0.43445583565777823]\n"
     ]
    }
   ],
   "source": [
    "#mse,weight = least_squares(y,tX)\n",
    "mse_clean,weight_clean = least_squares(y,tX_clean)\n",
    "#m = np.linalg.lstsq(tX,y)\n",
    "#print(mse)\n",
    "print(mse_clean)\n",
    "#print(weight)\n",
    "print(weight_clean)\n",
    "w_initial = np.zeros([tX.shape[1]])\n",
    "max_iters = 50\n",
    "gamma = 0.05\n",
    "mse_GD,weight_GD = least_squares_GD(y,tX_clean,w_initial,max_iters,gamma)\n",
    "print(mse_GD)\n",
    "#print(weight_GD[50])"
   ]
  },
  {
   "cell_type": "markdown",
   "metadata": {},
   "source": [
    "## Generate predictions and save ouput in csv format for submission:"
   ]
  },
  {
   "cell_type": "code",
   "execution_count": 10,
   "metadata": {
    "collapsed": false
   },
   "outputs": [],
   "source": [
    "DATA_TEST_PATH = '' # TODO: download train data and supply path here \n",
    "_, tX_test, ids_test = load_csv_data(DATA_TEST_PATH)"
   ]
  },
  {
   "cell_type": "code",
   "execution_count": 31,
   "metadata": {
    "collapsed": false
   },
   "outputs": [],
   "source": [
    "OUTPUT_PATH = '' # TODO: fill in desired name of output file for submission\n",
    "y_pred = predict_labels(weights, tX_test)\n",
    "create_csv_submission(ids_test, y_pred, OUTPUT_PATH)"
   ]
  },
  {
   "cell_type": "code",
   "execution_count": null,
   "metadata": {
    "collapsed": true
   },
   "outputs": [],
   "source": []
  }
 ],
 "metadata": {
  "anaconda-cloud": {},
  "kernelspec": {
   "display_name": "Python [conda root]",
   "language": "python",
   "name": "conda-root-py"
  },
  "language_info": {
   "codemirror_mode": {
    "name": "ipython",
    "version": 3
   },
   "file_extension": ".py",
   "mimetype": "text/x-python",
   "name": "python",
   "nbconvert_exporter": "python",
   "pygments_lexer": "ipython3",
   "version": "3.5.2"
  }
 },
 "nbformat": 4,
 "nbformat_minor": 0
}
