{
 "cells": [
  {
   "cell_type": "code",
   "execution_count": 2,
   "metadata": {
    "collapsed": true
   },
   "outputs": [],
   "source": [
    "# Useful starting lines\n",
    "%matplotlib inline\n",
    "import numpy as np\n",
    "import matplotlib.pyplot as plt\n",
    "%load_ext autoreload\n",
    "%autoreload 2"
   ]
  },
  {
   "cell_type": "markdown",
   "metadata": {},
   "source": [
    "## Load the training data into feature matrix, class labels, and event ids:"
   ]
  },
  {
   "cell_type": "code",
   "execution_count": 3,
   "metadata": {
    "collapsed": false
   },
   "outputs": [],
   "source": [
    "from proj1_helpers import *\n",
    "DATA_TRAIN_PATH = 'train.csv'\n",
    "y, tX, ids = load_csv_data(DATA_TRAIN_PATH)"
   ]
  },
  {
   "cell_type": "markdown",
   "metadata": {},
   "source": [
    "## Do your thing crazy machine learning thing here :) ..."
   ]
  },
  {
   "cell_type": "code",
   "execution_count": null,
   "metadata": {
    "collapsed": true
   },
   "outputs": [],
   "source": [
    "def compute_loss(y, tx, w):\n",
    "    return np.sum(np.power(y- tx @ w,2))/(2*len(y))"
   ]
  },
  {
   "cell_type": "code",
   "execution_count": 4,
   "metadata": {
    "collapsed": true
   },
   "outputs": [],
   "source": [
    "def least_squares(y, tx):\n",
    "    weight = np.linalg.solve(tx.T @ tx,tx.T @ y)\n",
    "    mse = compute_loss(y,tx,weight)\n",
    "    return mse, weight"
   ]
  },
  {
   "cell_type": "code",
   "execution_count": 70,
   "metadata": {
    "collapsed": true
   },
   "outputs": [],
   "source": [
    "def compute_gradient(y, tx, w):\n",
    "    e = y - tx @ w;\n",
    "    return -(e @ tx)/len(tx);\n",
    "\n",
    "def least_squares_GD(y, tx,initial_w, max_iters,gamma):\n",
    "    weight = [initial_w]\n",
    "    losses = []\n",
    "    w = initial_w\n",
    "    for n_iter in range(max_iters):\n",
    "        # ***************************************************\n",
    "        # INSERT YOUR CODE HERE\n",
    "        # TODO: compute gradient and loss\n",
    "        # ***************************************************\n",
    "        gradient = compute_gradient(y,tx,w);\n",
    "        loss = compute_loss(y,tx,w);\n",
    "        # ***************************************************\n",
    "        # INSERT YOUR CODE HERE\n",
    "        # TODO: update w by gradient\n",
    "        # ***************************************************\n",
    "        w = w  - gamma*gradient;\n",
    "        # store w and loss\n",
    "        weight.append(np.copy(w))\n",
    "        losses.append(loss)\n",
    "    return losses, weight\n",
    "    "
   ]
  },
  {
   "cell_type": "code",
   "execution_count": 71,
   "metadata": {
    "collapsed": false
   },
   "outputs": [
    {
     "name": "stdout",
     "output_type": "stream",
     "text": [
      "0.339686809477\n",
      "[  8.03494315e-05  -7.20202273e-03  -6.05417273e-03  -5.47559066e-04\n",
      "  -1.93874702e-02   4.73451621e-04  -2.60379054e-02   3.25106300e-01\n",
      "  -3.80780260e-05  -2.72729924e+00  -2.21220140e-01   9.50794092e-02\n",
      "   6.40351616e-02   2.73555892e+00  -3.31801229e-04  -9.54325120e-04\n",
      "   2.74031566e+00  -5.34164922e-04   9.73498609e-04   3.69225052e-03\n",
      "   3.54487428e-04  -5.43344599e-04  -3.30448035e-01  -1.40800497e-03\n",
      "   8.31432882e-04   1.02117272e-03  -1.68047416e-03  -5.83664815e-03\n",
      "  -1.11087997e-02   2.72775917e+00]\n"
     ]
    },
    {
     "name": "stderr",
     "output_type": "stream",
     "text": [
      "/Users/Mick/anaconda/lib/python3.5/site-packages/ipykernel/__main__.py:2: RuntimeWarning: overflow encountered in power\n",
      "  from ipykernel import kernelapp as app\n"
     ]
    },
    {
     "name": "stdout",
     "output_type": "stream",
     "text": [
      "[0.5, 321307158192.89911, 1.6899972059798306e+24, 8.8923482315055436e+36, 4.6789410249316453e+49, 2.4619469188945865e+62, 1.2954176168484329e+75, 6.8161778353679628e+87, 3.5865098389191794e+100, 1.8871357431315748e+113, 9.9296571679781113e+125, 5.2247482372392352e+138, 2.7491376268827314e+151, 1.4465305022115323e+164, 7.6112977152074246e+176, 4.004882912662562e+189, 2.1072736534914978e+202, 1.1087970229189886e+215, 5.8342248810305117e+227, 3.0698296675461348e+240, 1.6152709879914475e+253, 8.4991698146315541e+265, 4.4720599871460633e+278, 2.3530910624004098e+291, inf, inf, inf, inf, inf, inf, inf, inf, inf, inf, inf, inf, inf, inf, inf, inf, inf, inf, inf, inf, inf, inf, inf, inf, inf, nan]\n"
     ]
    }
   ],
   "source": [
    "mse,weight = least_squares(y,tX)\n",
    "print(mse)\n",
    "print(weight)\n",
    "#m = np.linalg.lstsq(tX,y)\n",
    "#print(m)\n",
    "w_initial = np.zeros([tX.shape[1]])\n",
    "max_iters = 50\n",
    "gamma = 0.4\n",
    "mse_GD,weight_GD = least_squares_GD(y,tX,w_initial,max_iters,gamma)\n",
    "#print(mse_GD)\n",
    "print(mse_GD)"
   ]
  },
  {
   "cell_type": "markdown",
   "metadata": {},
   "source": [
    "## Generate predictions and save ouput in csv format for submission:"
   ]
  },
  {
   "cell_type": "code",
   "execution_count": 10,
   "metadata": {
    "collapsed": false
   },
   "outputs": [],
   "source": [
    "DATA_TEST_PATH = '' # TODO: download train data and supply path here \n",
    "_, tX_test, ids_test = load_csv_data(DATA_TEST_PATH)"
   ]
  },
  {
   "cell_type": "code",
   "execution_count": 31,
   "metadata": {
    "collapsed": false
   },
   "outputs": [],
   "source": [
    "OUTPUT_PATH = '' # TODO: fill in desired name of output file for submission\n",
    "y_pred = predict_labels(weights, tX_test)\n",
    "create_csv_submission(ids_test, y_pred, OUTPUT_PATH)"
   ]
  },
  {
   "cell_type": "code",
   "execution_count": null,
   "metadata": {
    "collapsed": true
   },
   "outputs": [],
   "source": []
  }
 ],
 "metadata": {
  "anaconda-cloud": {},
  "kernelspec": {
   "display_name": "Python [conda root]",
   "language": "python",
   "name": "conda-root-py"
  },
  "language_info": {
   "codemirror_mode": {
    "name": "ipython",
    "version": 3
   },
   "file_extension": ".py",
   "mimetype": "text/x-python",
   "name": "python",
   "nbconvert_exporter": "python",
   "pygments_lexer": "ipython3",
   "version": "3.5.2"
  }
 },
 "nbformat": 4,
 "nbformat_minor": 0
}
