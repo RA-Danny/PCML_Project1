{
 "cells": [
  {
   "cell_type": "code",
   "execution_count": 1,
   "metadata": {
    "collapsed": false
   },
   "outputs": [],
   "source": [
    "# Useful starting lines\n",
    "%matplotlib inline\n",
    "import numpy as np\n",
    "import matplotlib.pyplot as plt\n",
    "from helpers import *\n",
    "%load_ext autoreload\n",
    "%autoreload 2\n",
    "from implementations import *"
   ]
  },
  {
   "cell_type": "markdown",
   "metadata": {},
   "source": [
    "## Load the training data into feature matrix, class labels, and event ids:"
   ]
  },
  {
   "cell_type": "code",
   "execution_count": 2,
   "metadata": {
    "collapsed": false
   },
   "outputs": [],
   "source": [
    "from proj1_helpers import *\n",
    "DATA_TRAIN_PATH = '../data/train.csv'\n",
    "y, tX, ids = load_csv_data(DATA_TRAIN_PATH)"
   ]
  },
  {
   "cell_type": "markdown",
   "metadata": {},
   "source": [
    "## Do your thing crazy machine learning thing here :) ..."
   ]
  },
  {
   "cell_type": "markdown",
   "metadata": {},
   "source": [
    "## Cleaning of data and visualisation"
   ]
  },
  {
   "cell_type": "code",
   "execution_count": 3,
   "metadata": {
    "collapsed": false,
    "scrolled": true
   },
   "outputs": [],
   "source": [
    "#Clean data\n",
    "\n",
    "#a = np.array([[3.0,8.0,5.0,-999.0,1.0],[7.0,4.0,1.0,2.0,6.0]])\n",
    "\n",
    "#remove -999 to the mean of the colum\n",
    "for column in tX.T:\n",
    "    clean = column[np.where(column != -999)]\n",
    "    mean = np.mean(clean)\n",
    "    column[np.where(column == -999)] = mean\n",
    "    \n",
    "tX_clean = tX\n",
    "for column in tX_clean.T:\n",
    "    mean = np.mean(column)\n",
    "    var = np.var(column)\n",
    "    if(var == 0):\n",
    "        var =1\n",
    "    column[:] = (column[:] - mean)/var\n",
    "    \n",
    "#tX_clean = np.c_[np.ones(len(y)),tX_clean]"
   ]
  },
  {
   "cell_type": "code",
   "execution_count": 4,
   "metadata": {
    "collapsed": false
   },
   "outputs": [
    {
     "name": "stderr",
     "output_type": "stream",
     "text": [
      "/Users/Mick/anaconda/lib/python3.5/site-packages/numpy/lib/shape_base.py:422: VisibleDeprecationWarning: using a non-integer number instead of an integer will result in an error in the future\n",
      "  sub_arys.append(_nx.swapaxes(sary[st:end], axis, 0))\n"
     ]
    }
   ],
   "source": [
    "#split data\n",
    "ratio = 0.8\n",
    "#60% train, 20%test, 20%cross\n",
    "\n",
    "test_x = np.array([1,2,3,4,5,6,7,8,9,10])\n",
    "test_y = np.array([1,1,1,1,1,-1,1,-1,-1,-1])\n",
    "#x_train, x_test, y_train,y_test  = split_data(test_y,test_x,ratio)\n",
    "\n",
    "x_train, x_test, y_train,y_test = split_data(y,tX_clean,ratio)\n"
   ]
  },
  {
   "cell_type": "markdown",
   "metadata": {},
   "source": [
    "## Test of the different methods"
   ]
  },
  {
   "cell_type": "code",
   "execution_count": 48,
   "metadata": {
    "collapsed": false
   },
   "outputs": [
    {
     "name": "stdout",
     "output_type": "stream",
     "text": [
      "mse train 0.340930466472\n",
      "mse test 0.562215768781\n"
     ]
    }
   ],
   "source": [
    "#*********************** least squares *******************#\n",
    "#mse,weight = least_squares(y,tX)\n",
    "mse_train,weight = least_squares(y_train,x_train)\n",
    "mse_test = compute_loss(y_test,x_test,weight)\n",
    "print(\"mse train\",mse_train)\n",
    "print(\"mse test\",mse_test)"
   ]
  },
  {
   "cell_type": "code",
   "execution_count": 41,
   "metadata": {
    "collapsed": false
   },
   "outputs": [
    {
     "name": "stdout",
     "output_type": "stream",
     "text": [
      "0.429612557216\n",
      "[ -1.75843213e-02  -1.78862178e-01  -2.37606436e-02   5.06382239e-02\n",
      "   6.36133261e-02   6.27332862e-03  -7.21106097e-02   6.55417949e-02\n",
      "  -6.05046852e-02   2.13563399e-02  -1.45216974e-01   2.80877241e-01\n",
      "   1.90500637e-02   1.80367157e-01   2.45891111e-04  -6.61610173e-03\n",
      "   1.29251330e-01   2.50158614e-03   1.08936294e-02   7.50402378e-03\n",
      "   6.86792223e-03   1.30649147e-02   5.31021641e-02   5.94469568e-02\n",
      "  -2.93794533e-03   5.79381839e-03   2.30874441e-04   4.31932278e-03\n",
      "  -3.18171742e-04   1.37805333e-02]\n"
     ]
    }
   ],
   "source": [
    "#******************** gradient descent *******************#\n",
    "w_initial = np.zeros([tX.shape[1]])\n",
    "max_iters = 500\n",
    "gamma = 0.08\n",
    "mse,weight = least_squares_GD(y_train,x_train,w_initial,max_iters,gamma)\n",
    "print(mse)\n",
    "print(weight)"
   ]
  },
  {
   "cell_type": "code",
   "execution_count": 64,
   "metadata": {
    "collapsed": false,
    "scrolled": false
   },
   "outputs": [
    {
     "ename": "IndexError",
     "evalue": "list index out of range",
     "output_type": "error",
     "traceback": [
      "\u001b[0;31m---------------------------------------------------------------------------\u001b[0m",
      "\u001b[0;31mIndexError\u001b[0m                                Traceback (most recent call last)",
      "\u001b[0;32m<ipython-input-64-5da951c597eb>\u001b[0m in \u001b[0;36m<module>\u001b[0;34m()\u001b[0m\n\u001b[1;32m      4\u001b[0m \u001b[0mmax_iters\u001b[0m \u001b[0;34m=\u001b[0m \u001b[0;36m1000\u001b[0m\u001b[0;34m\u001b[0m\u001b[0m\n\u001b[1;32m      5\u001b[0m \u001b[0mgamma\u001b[0m \u001b[0;34m=\u001b[0m \u001b[0;36m0.01\u001b[0m\u001b[0;34m\u001b[0m\u001b[0m\n\u001b[0;32m----> 6\u001b[0;31m \u001b[0mmse_SGD\u001b[0m\u001b[0;34m,\u001b[0m\u001b[0mweight_SGD\u001b[0m \u001b[0;34m=\u001b[0m \u001b[0mleast_squares_SGD\u001b[0m\u001b[0;34m(\u001b[0m\u001b[0my_train\u001b[0m\u001b[0;34m,\u001b[0m\u001b[0mx_train\u001b[0m\u001b[0;34m,\u001b[0m\u001b[0mw_initial\u001b[0m\u001b[0;34m,\u001b[0m\u001b[0mbatch_size\u001b[0m\u001b[0;34m,\u001b[0m\u001b[0mmax_iters\u001b[0m\u001b[0;34m,\u001b[0m\u001b[0mgamma\u001b[0m\u001b[0;34m)\u001b[0m\u001b[0;34m\u001b[0m\u001b[0m\n\u001b[0m\u001b[1;32m      7\u001b[0m \u001b[0mprint\u001b[0m\u001b[0;34m(\u001b[0m\u001b[0mmse_SGD\u001b[0m\u001b[0;34m)\u001b[0m\u001b[0;34m\u001b[0m\u001b[0m\n\u001b[1;32m      8\u001b[0m \u001b[0mprint\u001b[0m\u001b[0;34m(\u001b[0m\u001b[0mweight\u001b[0m\u001b[0;34m)\u001b[0m\u001b[0;34m\u001b[0m\u001b[0m\n",
      "\u001b[0;32m/Users/Mick/Documents/SV/MA3/pattern/project/PCML_Project1/scripts/implementations.py\u001b[0m in \u001b[0;36mleast_squares_SGD\u001b[0;34m(y, tx, initial_w, batch_size, max_iters, gamma)\u001b[0m\n\u001b[1;32m    119\u001b[0m             \u001b[0mlosses\u001b[0m\u001b[0;34m.\u001b[0m\u001b[0mappend\u001b[0m\u001b[0;34m(\u001b[0m\u001b[0mloss\u001b[0m\u001b[0;34m)\u001b[0m\u001b[0;34m;\u001b[0m\u001b[0;34m\u001b[0m\u001b[0m\n\u001b[1;32m    120\u001b[0m \u001b[0;34m\u001b[0m\u001b[0m\n\u001b[0;32m--> 121\u001b[0;31m     \u001b[0;32mreturn\u001b[0m \u001b[0mlosses\u001b[0m\u001b[0;34m[\u001b[0m\u001b[0mmax_iters\u001b[0m \u001b[0;34m-\u001b[0m\u001b[0;36m1\u001b[0m\u001b[0;34m]\u001b[0m\u001b[0;34m,\u001b[0m \u001b[0mws\u001b[0m\u001b[0;34m[\u001b[0m\u001b[0mmax_iters\u001b[0m \u001b[0;34m-\u001b[0m\u001b[0;36m1\u001b[0m\u001b[0;34m]\u001b[0m\u001b[0;34m\u001b[0m\u001b[0m\n\u001b[0m\u001b[1;32m    122\u001b[0m \u001b[0;34m\u001b[0m\u001b[0m\n\u001b[1;32m    123\u001b[0m \u001b[0;32mdef\u001b[0m \u001b[0mridge_regression\u001b[0m\u001b[0;34m(\u001b[0m\u001b[0my\u001b[0m\u001b[0;34m,\u001b[0m \u001b[0mtx\u001b[0m\u001b[0;34m,\u001b[0m \u001b[0mlamb\u001b[0m\u001b[0;34m)\u001b[0m\u001b[0;34m:\u001b[0m\u001b[0;34m\u001b[0m\u001b[0m\n",
      "\u001b[0;31mIndexError\u001b[0m: list index out of range"
     ]
    }
   ],
   "source": [
    "#************** stochastic gradient descent ****************#\n",
    "w_initial = np.zeros([x_train.shape[1]])\n",
    "batch_size = 32\n",
    "max_iters = 1000\n",
    "gamma = 0.01\n",
    "mse_SGD,weight_SGD = least_squares_SGD(y_train,x_train,w_initial,batch_size,max_iters,gamma)\n",
    "print(mse_SGD)\n",
    "print(weight)"
   ]
  },
  {
   "cell_type": "code",
   "execution_count": 29,
   "metadata": {
    "collapsed": false
   },
   "outputs": [
    {
     "name": "stdout",
     "output_type": "stream",
     "text": [
      "[[   1.    9.   81.]\n",
      " [   1.    7.   49.]\n",
      " [   1.    5.   25.]\n",
      " [   1.    6.   36.]\n",
      " [   1.    1.    1.]\n",
      " [   1.   10.  100.]\n",
      " [   1.    4.   16.]\n",
      " [   1.    3.    9.]]\n"
     ]
    }
   ],
   "source": [
    "#test poly\n",
    "a = [[2,4,5],[3,9,7]]\n",
    "b = [1,2,3]\n",
    "a_poly = build_poly(a,2)\n",
    "print(a_poly)"
   ]
  },
  {
   "cell_type": "markdown",
   "metadata": {},
   "source": [
    "# ridge regression"
   ]
  },
  {
   "cell_type": "code",
   "execution_count": 14,
   "metadata": {
    "collapsed": false
   },
   "outputs": [
    {
     "name": "stdout",
     "output_type": "stream",
     "text": [
      "degree:  1\n",
      "degree:  2\n",
      "degree:  3\n",
      "degree:  4\n",
      "degree:  5\n",
      "degree:  6\n",
      "degree:  7\n"
     ]
    },
    {
     "data": {
      "image/png": "[encoded data removed]",
      "text/plain": [
       "<matplotlib.figure.Figure at 0x1336f2e10>"
      ]
     },
     "metadata": {},
     "output_type": "display_data"
    }
   ],
   "source": [
    "#model validation\n",
    "\n",
    "degrees = range(1,8)\n",
    "k_fold = 4\n",
    "lambda_ = 0.01\n",
    "mean_train_mse = []\n",
    "mean_cv_mse = []\n",
    "for degree in degrees:\n",
    "    print(\"degree: \",degree)\n",
    "    \n",
    "    train_mse = []\n",
    "    cv_mse = []\n",
    "    #k fold\n",
    "    for k in range(k_fold):\n",
    "        x_cv = x_train[k_indices[k]]\n",
    "        y_cv = y_train[k_indices[k]]\n",
    "        #remove\n",
    "        rem_indice = k_indices[~(np.arange(k_indices.shape[0])==k)]\n",
    "        #set them in a vector\n",
    "        rem_indice = rem_indice.reshape(-1)\n",
    "        x_train_fold = x_train[rem_indice]\n",
    "        y_train_fold = y_train[rem_indice]\n",
    "\n",
    "        #get the ones in the matrix\n",
    "        x_train_poly = build_poly(x_train_fold,degree)\n",
    "        x_cv_poly = build_poly(x_cv,degree)\n",
    "        \n",
    "        mse_train,w = ridge_regression(y_train_fold, x_train_poly, lamb)\n",
    "        mse_cv = compute_loss(y_cv,x_cv_poly,w)\n",
    "        \n",
    "        train_mse.append(mse_train)\n",
    "        cv_mse.append(mse_cv)\n",
    "        \n",
    "    mean_train_mse.append(np.mean(train_mse))\n",
    "    mean_cv_mse.append(np.mean(cv_mse))\n",
    "    \n",
    "p = plt.plot(degrees,mean_train_mse,degrees,mean_cv_mse)\n",
    "plt.title(\"Model Validation\") \n",
    "plt.legend(p, [\"Training error\",\"Validation error\"])\n",
    "plt.show()\n"
   ]
  },
  {
   "cell_type": "code",
   "execution_count": null,
   "metadata": {
    "collapsed": false
   },
   "outputs": [
    {
     "name": "stdout",
     "output_type": "stream",
     "text": [
      "labda:  0.001\n",
      "labda:  0.00215443469003\n",
      "labda:  0.00464158883361\n",
      "labda:  0.01\n",
      "labda:  0.0215443469003\n",
      "labda:  0.0464158883361\n",
      "labda:  0.1\n",
      "labda:  0.215443469003\n",
      "labda:  0.464158883361\n"
     ]
    }
   ],
   "source": [
    "#lambda validation\n",
    "\n",
    "lambdas = np.logspace(-3, 0, 10)\n",
    "k_fold = 4\n",
    "degree = 5\n",
    "mean_train_mse = []\n",
    "mean_cv_mse = []\n",
    "\n",
    "k_indices = build_k_indices(y_train, k_fold,seed = 1)\n",
    "for lamb in lambdas:\n",
    "    print(\"labda: \",lamb)\n",
    "    train_mse = []\n",
    "    cv_mse = []\n",
    "    #k fold\n",
    "    for k in range(k_fold):\n",
    "        x_cv = x_train[k_indices[k]]\n",
    "        y_cv = y_train[k_indices[k]]\n",
    "        #remove\n",
    "        rem_indice = k_indices[~(np.arange(k_indices.shape[0])==k)]\n",
    "        #set them in a vector\n",
    "        rem_indice = rem_indice.reshape(-1)\n",
    "        x_train_fold = x_train[rem_indice]\n",
    "        y_train_fold = y_train[rem_indice]\n",
    "    \n",
    "        #get the ones in the matrix\n",
    "        x_train_poly = build_poly(x_train_fold,degree)\n",
    "        x_cv_poly = build_poly(x_cv,degree)\n",
    "        \n",
    "        mse_train,w = ridge_regression(y_train_fold, x_train_poly, lamb)\n",
    "        mse_cv = compute_loss(y_cv,x_cv_poly,w)\n",
    "        \n",
    "        train_mse.append(mse_train)\n",
    "        cv_mse.append(mse_cv)\n",
    "        \n",
    "    mean_train_mse.append(np.mean(train_mse))\n",
    "    mean_cv_mse.append(np.mean(cv_mse))\n",
    "    \n",
    "p=plt.semilogx(lambdas,mean_train_mse,lambdas,mean_cv_mse)\n",
    "plt.title(\"Lambda validation\") \n",
    "plt.legend(p, [\"Training error\",\"Validation error\"])\n",
    "plt.xlabel('Lambdas')\n",
    "plt.ylabel('mse')\n",
    "plt.show()\n",
    "\n",
    "#best_lambda = 0.0139\n",
    "#mse_train,weight = ridge_regression(y_train,x_train, best_lambda)\n",
    "#mse_test = compute_loss(y_test,x_test,weight)\n",
    "#print(\"mse train\",mse_train)\n",
    "#print(\"mse test\",mse_test)"
   ]
  },
  {
   "cell_type": "code",
   "execution_count": 74,
   "metadata": {
    "collapsed": false
   },
   "outputs": [
    {
     "ename": "IndexError",
     "evalue": "tuple index out of range",
     "output_type": "error",
     "traceback": [
      "\u001b[0;31m---------------------------------------------------------------------------\u001b[0m",
      "\u001b[0;31mIndexError\u001b[0m                                Traceback (most recent call last)",
      "\u001b[0;32m<ipython-input-74-9ed6e4921749>\u001b[0m in \u001b[0;36m<module>\u001b[0;34m()\u001b[0m\n\u001b[1;32m      3\u001b[0m \u001b[0mgamma\u001b[0m \u001b[0;34m=\u001b[0m \u001b[0;36m0.000001\u001b[0m\u001b[0;34m\u001b[0m\u001b[0m\n\u001b[1;32m      4\u001b[0m \u001b[0mlambda_\u001b[0m \u001b[0;34m=\u001b[0m \u001b[0;36m0.016\u001b[0m\u001b[0;34m\u001b[0m\u001b[0m\n\u001b[0;32m----> 5\u001b[0;31m \u001b[0mmse\u001b[0m\u001b[0;34m,\u001b[0m\u001b[0mweight\u001b[0m \u001b[0;34m=\u001b[0m \u001b[0mreg_logistic_regression\u001b[0m\u001b[0;34m(\u001b[0m\u001b[0my_test\u001b[0m\u001b[0;34m,\u001b[0m \u001b[0mx_test\u001b[0m\u001b[0;34m,\u001b[0m \u001b[0mlambda_\u001b[0m\u001b[0;34m,\u001b[0m \u001b[0mgamma\u001b[0m\u001b[0;34m,\u001b[0m \u001b[0mmax_iters\u001b[0m\u001b[0;34m)\u001b[0m\u001b[0;34m\u001b[0m\u001b[0m\n\u001b[0m\u001b[1;32m      6\u001b[0m \u001b[0mprint\u001b[0m\u001b[0;34m(\u001b[0m\u001b[0mmse\u001b[0m\u001b[0;34m)\u001b[0m\u001b[0;34m\u001b[0m\u001b[0m\n\u001b[1;32m      7\u001b[0m \u001b[0mprint\u001b[0m\u001b[0;34m(\u001b[0m\u001b[0mweight\u001b[0m\u001b[0;34m)\u001b[0m\u001b[0;34m\u001b[0m\u001b[0m\n",
      "\u001b[0;32m/Users/Mick/Documents/SV/MA3/pattern/project/PCML_Project1/scripts/implementations.py\u001b[0m in \u001b[0;36mreg_logistic_regression\u001b[0;34m(y, tx, lambda_, gamma, max_iters)\u001b[0m\n\u001b[1;32m    134\u001b[0m     \u001b[0mthreshold\u001b[0m \u001b[0;34m=\u001b[0m \u001b[0;36m1e-8\u001b[0m\u001b[0;34m\u001b[0m\u001b[0m\n\u001b[1;32m    135\u001b[0m     \u001b[0mlosses\u001b[0m \u001b[0;34m=\u001b[0m \u001b[0;34m[\u001b[0m\u001b[0;34m]\u001b[0m\u001b[0;34m\u001b[0m\u001b[0m\n\u001b[0;32m--> 136\u001b[0;31m     \u001b[0mws\u001b[0m \u001b[0;34m=\u001b[0m \u001b[0mnp\u001b[0m\u001b[0;34m.\u001b[0m\u001b[0mzeros\u001b[0m\u001b[0;34m(\u001b[0m\u001b[0;34m(\u001b[0m\u001b[0mtx\u001b[0m\u001b[0;34m.\u001b[0m\u001b[0mshape\u001b[0m\u001b[0;34m[\u001b[0m\u001b[0;36m1\u001b[0m\u001b[0;34m]\u001b[0m\u001b[0;34m,\u001b[0m \u001b[0;36m1\u001b[0m\u001b[0;34m)\u001b[0m\u001b[0;34m)\u001b[0m\u001b[0;34m\u001b[0m\u001b[0m\n\u001b[0m\u001b[1;32m    137\u001b[0m \u001b[0;34m\u001b[0m\u001b[0m\n\u001b[1;32m    138\u001b[0m     \u001b[0;32mfor\u001b[0m \u001b[0miter\u001b[0m \u001b[0;32min\u001b[0m \u001b[0mrange\u001b[0m\u001b[0;34m(\u001b[0m\u001b[0mmax_iters\u001b[0m\u001b[0;34m)\u001b[0m\u001b[0;34m:\u001b[0m\u001b[0;34m\u001b[0m\u001b[0m\n",
      "\u001b[0;31mIndexError\u001b[0m: tuple index out of range"
     ]
    }
   ],
   "source": [
    "#************** logistic regression ****************#\n",
    "max_iters = 1\n",
    "gamma = 0.000001\n",
    "lambda_ = 0.016\n",
    "mse,weight = reg_logistic_regression(y_test, x_test, lambda_, gamma, max_iters)\n",
    "print(mse)\n",
    "print(weight)"
   ]
  },
  {
   "cell_type": "markdown",
   "metadata": {},
   "source": [
    "## Test of methods"
   ]
  },
  {
   "cell_type": "code",
   "execution_count": 46,
   "metadata": {
    "collapsed": false
   },
   "outputs": [
    {
     "name": "stdout",
     "output_type": "stream",
     "text": [
      "0.340930466472\n",
      "Correct pourcentage predition = 0.57796\n"
     ]
    }
   ],
   "source": [
    "mse_train = compute_loss(y_train,x_train,weight)\n",
    "print(mse_train)\n",
    "#calculate pourcentage of prediction\n",
    "y_pred = predict_labels(weight, x_test)\n",
    "y_t = y_test * y_pred\n",
    "y_correct = np.where(y_t==1)\n",
    "print('Correct pourcentage predition =',np.shape(y_correct)[1]/np.shape(y_test)[0])"
   ]
  },
  {
   "cell_type": "markdown",
   "metadata": {},
   "source": [
    "## Generate predictions and save ouput in csv format for submission:"
   ]
  },
  {
   "cell_type": "code",
   "execution_count": null,
   "metadata": {
    "collapsed": false
   },
   "outputs": [],
   "source": [
    "DATA_TEST_PATH = '../data/test.csv' # TODO: download train data and supply path here \n",
    "_, tX_test, ids_test = load_csv_data(DATA_TEST_PATH)"
   ]
  },
  {
   "cell_type": "code",
   "execution_count": null,
   "metadata": {
    "collapsed": false
   },
   "outputs": [],
   "source": [
    "OUTPUT_PATH = '' # TODO: fill in desired name of output file for submission\n",
    "y_pred = predict_labels(weights, tX_test)\n",
    "create_csv_submission(ids_test, y_pred, OUTPUT_PATH)"
   ]
  }
 ],
 "metadata": {
  "anaconda-cloud": {},
  "kernelspec": {
   "display_name": "Python [conda root]",
   "language": "python",
   "name": "conda-root-py"
  },
  "language_info": {
   "codemirror_mode": {
    "name": "ipython",
    "version": 3
   },
   "file_extension": ".py",
   "mimetype": "text/x-python",
   "name": "python",
   "nbconvert_exporter": "python",
   "pygments_lexer": "ipython3",
   "version": "3.5.2"
  }
 },
 "nbformat": 4,
 "nbformat_minor": 0
}
