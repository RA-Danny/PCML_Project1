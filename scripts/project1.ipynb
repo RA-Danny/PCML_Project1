{
 "cells": [
  {
   "cell_type": "code",
   "execution_count": 1,
   "metadata": {
    "collapsed": false
   },
   "outputs": [],
   "source": [
    "# Useful starting lines\n",
    "%matplotlib inline\n",
    "import numpy as np\n",
    "import matplotlib.pyplot as plt\n",
    "from helpers import *\n",
    "%load_ext autoreload\n",
    "%autoreload 2\n",
    "from implementations import *"
   ]
  },
  {
   "cell_type": "markdown",
   "metadata": {},
   "source": [
    "## Load the training data into feature matrix, class labels, and event ids:"
   ]
  },
  {
   "cell_type": "code",
   "execution_count": 2,
   "metadata": {
    "collapsed": false
   },
   "outputs": [],
   "source": [
    "from proj1_helpers import *\n",
    "DATA_TRAIN_PATH = '../data/train.csv'\n",
    "y, tX, ids = load_csv_data(DATA_TRAIN_PATH)"
   ]
  },
  {
   "cell_type": "markdown",
   "metadata": {},
   "source": [
    "## Do your thing crazy machine learning thing here :) ..."
   ]
  },
  {
   "cell_type": "markdown",
   "metadata": {},
   "source": [
    "## Cleaning of data and visualisation"
   ]
  },
  {
   "cell_type": "code",
   "execution_count": 3,
   "metadata": {
    "collapsed": false,
    "scrolled": true
   },
   "outputs": [],
   "source": [
    "#Clean data\n",
    "\n",
    "#a = np.array([[3.0,8.0,5.0,-999.0,1.0],[7.0,4.0,1.0,2.0,6.0]])\n",
    "\n",
    "#remove -999 to the mean of the colum\n",
    "for column in tX.T:\n",
    "    clean = column[np.where(column != -999)]\n",
    "    mean = np.mean(clean)\n",
    "    column[np.where(column == -999)] = mean\n",
    "    \n",
    "tX_clean = tX\n",
    "for column in tX_clean.T:\n",
    "    mean = np.mean(column)\n",
    "    var = np.var(column)\n",
    "    if(var == 0):\n",
    "        var =1\n",
    "    column[:] = (column[:] - mean)/var\n",
    "    \n",
    "#tX_clean = np.c_[np.ones(len(y)),tX_clean]"
   ]
  },
  {
   "cell_type": "code",
   "execution_count": 4,
   "metadata": {
    "collapsed": false
   },
   "outputs": [
    {
     "name": "stderr",
     "output_type": "stream",
     "text": [
      "/Users/Mick/anaconda/lib/python3.5/site-packages/numpy/lib/shape_base.py:422: VisibleDeprecationWarning: using a non-integer number instead of an integer will result in an error in the future\n",
      "  sub_arys.append(_nx.swapaxes(sary[st:end], axis, 0))\n"
     ]
    }
   ],
   "source": [
    "#split data\n",
    "ratio = 0.8\n",
    "#60% train, 20%test, 20%cross\n",
    "\n",
    "test_x = np.array([1,2,3,4,5,6,7,8,9,10])\n",
    "test_y = np.array([1,1,1,1,1,-1,1,-1,-1,-1])\n",
    "#x_train, x_test, y_train,y_test  = split_data(test_y,test_x,ratio)\n",
    "\n",
    "x_train, x_test, y_train,y_test = split_data(y,tX_clean,ratio)\n"
   ]
  },
  {
   "cell_type": "markdown",
   "metadata": {},
   "source": [
    "## Test of the different methods"
   ]
  },
  {
   "cell_type": "code",
   "execution_count": 21,
   "metadata": {
    "collapsed": false
   },
   "outputs": [
    {
     "name": "stdout",
     "output_type": "stream",
     "text": [
      "mse train 0.390274194423\n",
      "mse test 0.388536456197\n"
     ]
    }
   ],
   "source": [
    "#*********************** least squares *******************#\n",
    "#mse,weight = least_squares(y,tX)\n",
    "mse_train,weight = least_squares(y_train,x_train)\n",
    "mse_test = compute_loss(y_test,x_test,weight)\n",
    "print(\"mse train\",mse_train)\n",
    "print(\"mse test\",mse_test)"
   ]
  },
  {
   "cell_type": "code",
   "execution_count": 22,
   "metadata": {
    "collapsed": false
   },
   "outputs": [
    {
     "name": "stdout",
     "output_type": "stream",
     "text": [
      "[-1. -1.  1. ..., -1. -1. -1.]\n",
      "[-1. -1. -1. ..., -1. -1. -1.]\n",
      "[ 1.  1. -1. ...,  1.  1.  1.]\n",
      "(1, 36015)\n",
      "(50000,)\n",
      "Correct pourcentage predition = 0.7203\n"
     ]
    }
   ],
   "source": [
    "y_pred = predict_labels(weight, x_test)\n",
    "y_t = y_test * y_pred\n",
    "y_correct = np.where(y_t==1)\n",
    "print(np.shape(y_correct))\n",
    "print(np.shape(y_test))\n",
    "print('Correct pourcentage predition =',np.shape(y_correct)[1]/np.shape(y_test)[0])\n"
   ]
  },
  {
   "cell_type": "code",
   "execution_count": 6,
   "metadata": {
    "collapsed": false
   },
   "outputs": [
    {
     "name": "stdout",
     "output_type": "stream",
     "text": [
      "0.431557975106\n",
      "[ -1.56872990e-02  -1.77467339e-01  -2.23129267e-02   5.28241154e-02\n",
      "   7.38142343e-02   6.05938350e-03  -5.58950539e-02   6.99799884e-02\n",
      "  -6.89922633e-02   2.20582638e-02  -1.44904682e-01   2.73373001e-01\n",
      "   1.76367922e-02   1.87879070e-01  -7.71996721e-04  -3.67153246e-03\n",
      "   1.37182515e-01  -1.51167199e-03   2.35028825e-03   1.02035705e-02\n",
      "   7.07541588e-03   1.33374917e-02   5.61119888e-02   6.09354768e-02\n",
      "  -3.41629615e-05   4.74992022e-04  -5.15019289e-03   2.53748782e-03\n",
      "   4.27539944e-04   1.39640152e-02]\n"
     ]
    }
   ],
   "source": [
    "#******************** gradient descent *******************#\n",
    "w_initial = np.zeros([tX.shape[1]])\n",
    "max_iters = 500\n",
    "gamma = 0.08\n",
    "mse,weight = least_squares_GD(y_train,x_train,w_initial,max_iters,gamma)\n",
    "print(mse)\n",
    "print(weight)"
   ]
  },
  {
   "cell_type": "code",
   "execution_count": 7,
   "metadata": {
    "collapsed": false,
    "scrolled": false
   },
   "outputs": [
    {
     "name": "stdout",
     "output_type": "stream",
     "text": [
      "0.41435125529\n",
      "[ -1.56872990e-02  -1.77467339e-01  -2.23129267e-02   5.28241154e-02\n",
      "   7.38142343e-02   6.05938350e-03  -5.58950539e-02   6.99799884e-02\n",
      "  -6.89922633e-02   2.20582638e-02  -1.44904682e-01   2.73373001e-01\n",
      "   1.76367922e-02   1.87879070e-01  -7.71996721e-04  -3.67153246e-03\n",
      "   1.37182515e-01  -1.51167199e-03   2.35028825e-03   1.02035705e-02\n",
      "   7.07541588e-03   1.33374917e-02   5.61119888e-02   6.09354768e-02\n",
      "  -3.41629615e-05   4.74992022e-04  -5.15019289e-03   2.53748782e-03\n",
      "   4.27539944e-04   1.39640152e-02]\n"
     ]
    }
   ],
   "source": [
    "#************** stochastic gradient descent ****************#\n",
    "w_initial = np.zeros([x_train.shape[1]])\n",
    "batch_size = 32\n",
    "max_iters = 1000\n",
    "gamma = 0.01\n",
    "mse_SGD,weight_SGD = least_squares_SGD(y_train,x_train,w_initial,batch_size,max_iters,gamma)\n",
    "print(mse_SGD)\n",
    "print(weight)"
   ]
  },
  {
   "cell_type": "markdown",
   "metadata": {},
   "source": [
    "# ridge regression"
   ]
  },
  {
   "cell_type": "code",
   "execution_count": 8,
   "metadata": {
    "collapsed": false
   },
   "outputs": [
    {
     "name": "stdout",
     "output_type": "stream",
     "text": [
      "degree:  1\n",
      "1 --> 0.381247375694  AND  0.381330943311\n",
      "degree:  2\n",
      "2 --> 0.35458740602  AND  0.35480196142\n",
      "degree:  3\n",
      "3 --> 0.349025949331  AND  0.349697868922\n",
      "degree:  4\n",
      "4 --> 0.346467256911  AND  0.346769725944\n",
      "degree:  5\n",
      "5 --> 0.344178459753  AND  0.344626926295\n",
      "degree:  6\n",
      "6 --> 0.343825372772  AND  0.347472208753\n",
      "degree:  7\n",
      "7 --> 0.342479663215  AND  0.44141299744\n"
     ]
    },
    {
     "data": {
      "image/png": "[encoded data removed]",
      "text/plain": [
       "<matplotlib.figure.Figure at 0x10dd24f28>"
      ]
     },
     "metadata": {},
     "output_type": "display_data"
    }
   ],
   "source": [
    "#model validation\n",
    "\n",
    "degrees = range(1,8)\n",
    "k_fold = 4\n",
    "lambda_ = 0.01\n",
    "mean_train_mse = []\n",
    "mean_cv_mse = []\n",
    "\n",
    "k_indices = build_k_indices(y_train, k_fold,seed = 1)\n",
    "for degree in degrees:\n",
    "    print(\"degree: \",degree)\n",
    "    \n",
    "    train_mse = []\n",
    "    cv_mse = []\n",
    "    #k fold\n",
    "    for k in range(k_fold):\n",
    "        x_cv = x_train[k_indices[k]]\n",
    "        y_cv = y_train[k_indices[k]]\n",
    "        #remove\n",
    "        rem_indice = k_indices[~(np.arange(k_indices.shape[0])==k)]\n",
    "        #set them in a vector\n",
    "        rem_indice = rem_indice.reshape(-1)\n",
    "        x_train_fold = x_train[rem_indice]\n",
    "        y_train_fold = y_train[rem_indice]\n",
    "\n",
    "        #get the ones in the matrix\n",
    "        x_train_poly = build_poly(x_train_fold,degree)\n",
    "        x_cv_poly = build_poly(x_cv,degree)\n",
    "        \n",
    "        mse_train,w = ridge_regression(y_train_fold, x_train_poly, lambda_)\n",
    "        mse_cv = compute_loss(y_cv,x_cv_poly,w)\n",
    "        \n",
    "        train_mse.append(mse_train)\n",
    "        cv_mse.append(mse_cv)\n",
    "        \n",
    "    mean_train_mse.append(np.mean(train_mse))\n",
    "    mean_cv_mse.append(np.mean(cv_mse))\n",
    "    \n",
    "    print(degree,'-->',np.mean(train_mse),' AND ', np.mean(cv_mse))\n",
    "    \n",
    "p = plt.plot(degrees,mean_train_mse,degrees,mean_cv_mse)\n",
    "plt.title(\"Model Validation\") \n",
    "plt.legend(p, [\"Training error\",\"Validation error\"])\n",
    "plt.show()\n"
   ]
  },
  {
   "cell_type": "code",
   "execution_count": 9,
   "metadata": {
    "collapsed": false
   },
   "outputs": [
    {
     "name": "stdout",
     "output_type": "stream",
     "text": [
      "labda:  0.001\n",
      "0.001 --> 0.336426206506  AND  0.356183957817\n",
      "labda:  0.00129154966501\n",
      "0.00129154966501 --> 0.33772698051  AND  0.3491844648\n",
      "labda:  0.0016681005372\n",
      "0.0016681005372 --> 0.338889044888  AND  0.345597992722\n",
      "labda:  0.00215443469003\n",
      "0.00215443469003 --> 0.339915040009  AND  0.343907656648\n",
      "labda:  0.00278255940221\n",
      "0.00278255940221 --> 0.340816400481  AND  0.343251705183\n",
      "labda:  0.0035938136638\n",
      "0.0035938136638 --> 0.341610945919  AND  0.343150404089\n",
      "labda:  0.00464158883361\n",
      "0.00464158883361 --> 0.342320638476  AND  0.343342973956\n",
      "labda:  0.00599484250319\n",
      "0.00599484250319 --> 0.342969481093  AND  0.343692458379\n",
      "labda:  0.00774263682681\n",
      "0.00774263682681 --> 0.343581447949  AND  0.344130779366\n",
      "labda:  0.01\n",
      "0.01 --> 0.344178459753  AND  0.344626926295\n"
     ]
    },
    {
     "data": {
      "image/png": "[encoded data removed]",
      "text/plain": [
       "<matplotlib.figure.Figure at 0x1348be940>"
      ]
     },
     "metadata": {},
     "output_type": "display_data"
    }
   ],
   "source": [
    "#lambda validation\n",
    "\n",
    "lambdas = np.logspace(-3, -2, 10)\n",
    "k_fold = 4\n",
    "degree = 5\n",
    "mean_train_mse = []\n",
    "mean_cv_mse = []\n",
    "\n",
    "k_indices = build_k_indices(y_train, k_fold,seed = 1)\n",
    "for lamb in lambdas:\n",
    "    print(\"labda: \",lamb)\n",
    "    train_mse = []\n",
    "    cv_mse = []\n",
    "    #k fold\n",
    "    for k in range(k_fold):\n",
    "        x_cv = x_train[k_indices[k]]\n",
    "        y_cv = y_train[k_indices[k]]\n",
    "        #remove\n",
    "        rem_indice = k_indices[~(np.arange(k_indices.shape[0])==k)]\n",
    "        #set them in a vector\n",
    "        rem_indice = rem_indice.reshape(-1)\n",
    "        x_train_fold = x_train[rem_indice]\n",
    "        y_train_fold = y_train[rem_indice]\n",
    "    \n",
    "        #get the ones in the matrix\n",
    "        x_train_poly = build_poly(x_train_fold,degree)\n",
    "        x_cv_poly = build_poly(x_cv,degree)\n",
    "        \n",
    "        mse_train,w = ridge_regression(y_train_fold, x_train_poly, lamb)\n",
    "        mse_cv = compute_loss(y_cv,x_cv_poly,w)\n",
    "        \n",
    "        train_mse.append(mse_train)\n",
    "        cv_mse.append(mse_cv)\n",
    "        \n",
    "    mean_train_mse.append(np.mean(train_mse))\n",
    "    mean_cv_mse.append(np.mean(cv_mse))\n",
    "    \n",
    "    print(lamb,'-->',np.mean(train_mse),' AND ', np.mean(cv_mse))\n",
    "        \n",
    "    \n",
    "p=plt.semilogx(lambdas,mean_train_mse,lambdas,mean_cv_mse)\n",
    "plt.title(\"Lambda validation\") \n",
    "plt.legend(p, [\"Training error\",\"Validation error\"])\n",
    "plt.xlabel('Lambdas')\n",
    "plt.ylabel('mse')\n",
    "plt.show()\n"
   ]
  },
  {
   "cell_type": "code",
   "execution_count": null,
   "metadata": {
    "collapsed": false
   },
   "outputs": [],
   "source": [
    "#************** logistic regression ****************#\n",
    "max_iters = 1\n",
    "gamma = 0.000001\n",
    "lambda_ = 0.016\n",
    "mse,weight = reg_logistic_regression(y_test, x_test, lambda_, gamma, max_iters)\n",
    "print(mse)\n",
    "print(weight)"
   ]
  },
  {
   "cell_type": "code",
   "execution_count": 5,
   "metadata": {
    "collapsed": false
   },
   "outputs": [
    {
     "name": "stdout",
     "output_type": "stream",
     "text": [
      "mse train 0.341293800291\n",
      "mse test 0.340860726256\n"
     ]
    }
   ],
   "source": [
    "#best parameters\n",
    "lambda_ = 0.00303919538231\n",
    "degree = 5\n",
    "\n",
    "x_train_poly = build_poly(x_train,degree)\n",
    "x_test_poly = build_poly(x_test,degree)\n",
    "\n",
    "mse_train,weight = ridge_regression(y_train,x_train_poly, lambda_)\n",
    "mse_test = compute_loss(y_test,x_test_poly,weight)\n",
    "print(\"mse train\",mse_train)\n",
    "print(\"mse test\",mse_test)"
   ]
  },
  {
   "cell_type": "markdown",
   "metadata": {},
   "source": [
    "## Test of methods"
   ]
  },
  {
   "cell_type": "code",
   "execution_count": 7,
   "metadata": {
    "collapsed": false
   },
   "outputs": [
    {
     "name": "stdout",
     "output_type": "stream",
     "text": [
      "(1, 36992)\n",
      "(50000,)\n",
      "Correct pourcentage predition = 0.73984\n"
     ]
    }
   ],
   "source": [
    "#calculate pourcentage of prediction\n",
    "y_pred = predict_labels(weight, x_test_poly)\n",
    "y_t = y_test * y_pred\n",
    "y_correct = np.where(y_t==1)\n",
    "print(np.shape(y_correct))\n",
    "print(np.shape(y_test))\n",
    "print('Correct pourcentage predition =',np.shape(y_correct)[1]/np.shape(y_test)[0])\n"
   ]
  },
  {
   "cell_type": "markdown",
   "metadata": {},
   "source": [
    "## Generate predictions and save ouput in csv format for submission:"
   ]
  },
  {
   "cell_type": "code",
   "execution_count": 8,
   "metadata": {
    "collapsed": false
   },
   "outputs": [],
   "source": [
    "DATA_TEST_PATH = '../data/test.csv' # download train data and supply path here \n",
    "_, tX_test, ids_test = load_csv_data(DATA_TEST_PATH)"
   ]
  },
  {
   "cell_type": "code",
   "execution_count": 9,
   "metadata": {
    "collapsed": true
   },
   "outputs": [],
   "source": [
    "for column in tX_test.T:\n",
    "    clean = column[np.where(column != -999)]\n",
    "    mean = np.mean(clean)\n",
    "    column[np.where(column == -999)] = mean\n",
    "    \n",
    "tX_test_clean = tX_test\n",
    "for column in tX_clean.T:\n",
    "    mean = np.mean(column)\n",
    "    var = np.var(column)\n",
    "    if(var == 0):\n",
    "        var =1\n",
    "    column[:] = (column[:] - mean)/var"
   ]
  },
  {
   "cell_type": "code",
   "execution_count": 10,
   "metadata": {
    "collapsed": false
   },
   "outputs": [],
   "source": [
    "weights = weight\n",
    "tX_test = build_poly(tX_test_clean,5)\n",
    "\n",
    "OUTPUT_PATH = '../submission3.csv' #  fill in desired name of output file for submission\n",
    "y_pred = predict_labels(weights, tX_test)\n",
    "create_csv_submission(ids_test, y_pred, OUTPUT_PATH)"
   ]
  },
  {
   "cell_type": "code",
   "execution_count": null,
   "metadata": {
    "collapsed": true
   },
   "outputs": [],
   "source": []
  }
 ],
 "metadata": {
  "anaconda-cloud": {},
  "kernelspec": {
   "display_name": "Python [conda root]",
   "language": "python",
   "name": "conda-root-py"
  },
  "language_info": {
   "codemirror_mode": {
    "name": "ipython",
    "version": 3
   },
   "file_extension": ".py",
   "mimetype": "text/x-python",
   "name": "python",
   "nbconvert_exporter": "python",
   "pygments_lexer": "ipython3",
   "version": "3.5.2"
  }
 },
 "nbformat": 4,
 "nbformat_minor": 0
}
