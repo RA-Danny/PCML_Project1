{
 "cells": [
  {
   "cell_type": "code",
   "execution_count": 1,
   "metadata": {
    "collapsed": false
   },
   "outputs": [],
   "source": [
    "# Useful starting lines\n",
    "%matplotlib inline\n",
    "import numpy as np\n",
    "import matplotlib.pyplot as plt\n",
    "from helpers import *\n",
    "%load_ext autoreload\n",
    "%autoreload 2\n",
    "from implementations import *"
   ]
  },
  {
   "cell_type": "markdown",
   "metadata": {},
   "source": [
    "## Load the training data into feature matrix, class labels, and event ids:"
   ]
  },
  {
   "cell_type": "code",
   "execution_count": 2,
   "metadata": {
    "collapsed": false
   },
   "outputs": [],
   "source": [
    "from proj1_helpers import *\n",
    "DATA_TRAIN_PATH = '../data/train.csv'\n",
    "y, tX, ids = load_csv_data(DATA_TRAIN_PATH)"
   ]
  },
  {
   "cell_type": "markdown",
   "metadata": {},
   "source": [
    "## Do your thing crazy machine learning thing here :) ..."
   ]
  },
  {
   "cell_type": "markdown",
   "metadata": {},
   "source": [
    "## Cleaning of data and visualisation"
   ]
  },
  {
   "cell_type": "code",
   "execution_count": 3,
   "metadata": {
    "collapsed": false,
    "scrolled": true
   },
   "outputs": [],
   "source": [
    "#Clean data\n",
    "\n",
    "#a = np.array([[3.0,8.0,5.0,-999.0,1.0],[7.0,4.0,1.0,2.0,6.0]])\n",
    "\n",
    "#remove -999 to the mean of the colum\n",
    "for column in tX.T:\n",
    "    clean = column[np.where(column != -999)]\n",
    "    mean = np.mean(clean)\n",
    "    column[np.where(column == -999)] = mean\n",
    "    \n",
    "tX_clean = tX\n",
    "for column in tX_clean.T:\n",
    "    mean = np.mean(column)\n",
    "    var = np.var(column)\n",
    "    if(var == 0):\n",
    "        var =1\n",
    "    column[:] = (column[:] - mean)/var\n",
    "    \n"
   ]
  },
  {
   "cell_type": "code",
   "execution_count": 43,
   "metadata": {
    "collapsed": false
   },
   "outputs": [
    {
     "name": "stderr",
     "output_type": "stream",
     "text": [
      "/Users/Mick/anaconda/lib/python3.5/site-packages/numpy/lib/shape_base.py:422: VisibleDeprecationWarning: using a non-integer number instead of an integer will result in an error in the future\n",
      "  sub_arys.append(_nx.swapaxes(sary[st:end], axis, 0))\n"
     ]
    }
   ],
   "source": [
    "#split data\n",
    "ratio_train_test = 0.6\n",
    "ratio_test_train = 0.5\n",
    "#60% train, 20%test, 20%cross\n",
    "x_train, x_test, y_train,y_test = split_data(y,tX_clean,ratio_train_test)\n",
    "x_test,x_cv,y_test,y_cv = split_data(y,x_test,ratio_test_train)"
   ]
  },
  {
   "cell_type": "markdown",
   "metadata": {},
   "source": [
    "## Test of the different methods"
   ]
  },
  {
   "cell_type": "code",
   "execution_count": 5,
   "metadata": {
    "collapsed": false
   },
   "outputs": [
    {
     "name": "stdout",
     "output_type": "stream",
     "text": [
      "0.388690660324\n",
      "[  9.40097809e-01  -9.37929197e+00  -1.07849449e+01  -8.01976547e-01\n",
      "   2.05727485e-02   1.95087405e+01   2.11796906e-02   2.13453420e-01\n",
      "  -5.63861368e-01   5.04264398e+04  -1.45780410e-01   1.43722280e-01\n",
      "   1.63897735e-02  -1.88741318e+03   4.15332284e-03  -6.56256251e-04\n",
      "  -1.82764812e+03  -1.28142882e-04   4.54958180e-03   3.70150686e+00\n",
      "   1.53517936e-02  -6.24953086e+00   4.14036400e-02  -2.63139815e+00\n",
      "  -8.40228894e-03   4.25742004e-03  -6.23028429e-01  -3.89330875e-04\n",
      "  -2.62716048e-03  -3.61849259e+04]\n"
     ]
    }
   ],
   "source": [
    "#*********************** least squares *******************#\n",
    "#mse,weight = least_squares(y,tX)\n",
    "mse,weight = least_squares(y_train,x_train)\n",
    "print(mse)\n",
    "print(weight)"
   ]
  },
  {
   "cell_type": "code",
   "execution_count": 41,
   "metadata": {
    "collapsed": false
   },
   "outputs": [
    {
     "name": "stdout",
     "output_type": "stream",
     "text": [
      "0.429612557216\n",
      "[ -1.75843213e-02  -1.78862178e-01  -2.37606436e-02   5.06382239e-02\n",
      "   6.36133261e-02   6.27332862e-03  -7.21106097e-02   6.55417949e-02\n",
      "  -6.05046852e-02   2.13563399e-02  -1.45216974e-01   2.80877241e-01\n",
      "   1.90500637e-02   1.80367157e-01   2.45891111e-04  -6.61610173e-03\n",
      "   1.29251330e-01   2.50158614e-03   1.08936294e-02   7.50402378e-03\n",
      "   6.86792223e-03   1.30649147e-02   5.31021641e-02   5.94469568e-02\n",
      "  -2.93794533e-03   5.79381839e-03   2.30874441e-04   4.31932278e-03\n",
      "  -3.18171742e-04   1.37805333e-02]\n"
     ]
    }
   ],
   "source": [
    "#******************** gradient descent *******************#\n",
    "w_initial = np.zeros([tX.shape[1]])\n",
    "max_iters = 500\n",
    "gamma = 0.08\n",
    "mse,weight = least_squares_GD(y_train,x_train,w_initial,max_iters,gamma)\n",
    "print(mse)\n",
    "print(weight)"
   ]
  },
  {
   "cell_type": "code",
   "execution_count": 43,
   "metadata": {
    "collapsed": false,
    "scrolled": false
   },
   "outputs": [
    {
     "name": "stdout",
     "output_type": "stream",
     "text": [
      "2.20412590418e-05\n",
      "[  7.36188883e-01  -9.25032447e+00  -1.00360471e+01  -8.09252695e-01\n",
      "   6.77793220e-03   2.02690242e+01  -7.22268855e-03   2.02701036e-01\n",
      "  -5.71814284e-01   1.73535549e+04  -1.49024914e-01   1.50339726e-01\n",
      "   1.77573017e-02  -6.47195533e+02   2.77889331e-03  -4.20521656e-03\n",
      "  -6.25115499e+02   8.57532803e-04   7.37286302e-03   3.43265782e+00\n",
      "  -3.46753962e-03  -5.06114070e+00   3.88456413e-02  -2.02768325e+00\n",
      "  -3.76196261e-03   6.14023759e-03  -7.02170120e-01   4.99534980e-03\n",
      "  -1.24345729e-03  -1.24524975e+04]\n"
     ]
    }
   ],
   "source": [
    "#************** stochastic gradient descent ****************#\n",
    "w_initial = np.zeros([tX.shape[1]])\n",
    "batch_size = 1\n",
    "max_iters = 1000\n",
    "gamma = 0.0001\n",
    "mse_SGD,weight_SGD = least_squares_SGD(y_train,x_test,w_initial,batch_size,max_iters,gamma)\n",
    "print(mse_SGD)\n",
    "print(weight)"
   ]
  },
  {
   "cell_type": "code",
   "execution_count": 52,
   "metadata": {
    "collapsed": false
   },
   "outputs": [
    {
     "name": "stdout",
     "output_type": "stream",
     "text": [
      "[[ 2  4  5  4 16 25]\n",
      " [ 3  9  7  9 81 49]]\n"
     ]
    }
   ],
   "source": [
    "#test poly\n",
    "a = [[2,4,5],[3,9,7]]\n",
    "b = [1,2,3]\n",
    "a_poly = build_poly(a,2)\n",
    "print(a_poly)"
   ]
  },
  {
   "cell_type": "code",
   "execution_count": 67,
   "metadata": {
    "collapsed": false
   },
   "outputs": [
    {
     "name": "stdout",
     "output_type": "stream",
     "text": [
      "degree 1\n",
      "degree 2\n",
      "degree 3\n",
      "degree 4\n"
     ]
    },
    {
     "data": {
      "image/png": "[encoded data removed]",
      "text/plain": [
       "<matplotlib.figure.Figure at 0x10dd20cc0>"
      ]
     },
     "metadata": {},
     "output_type": "display_data"
    },
    {
     "data": {
      "text/plain": [
       "'\\nlambdas = np.logspace(-5, 0, 15)\\nrmse_trs = []\\nfor lamb in lambdas:\\n    w = ridge_regression(y, tX, lamb)\\n\\n    loss_train = compute_loss(y, tX, w)\\n    rmse_train = np.sqrt(2*loss_train)\\n\\n    print(\"lambda={l:.3f}, proportion={p}, Training RMSE={tr:.3f}\".format(\\n        l=lamb, p=ratio, tr=rmse_train))\\n    rmse_trs.append(rmse_train)\\n    \\np=plt.semilogx(lambdas,rmse_trs, marker=\\'o\\')\\nplt.title(\"Ridge regression\") \\nplt.legend(p, [\"Training error\"])\\nplt.xlabel(\\'Lambdas\\')\\nplt.ylabel(\\'rmse\\')\\nplt.show()\\n'"
      ]
     },
     "execution_count": 67,
     "metadata": {},
     "output_type": "execute_result"
    }
   ],
   "source": [
    "#************** ridge regression ****************#\n",
    "\n",
    "degrees = range(1,5)\n",
    "\n",
    "lambda_ = 0.016\n",
    "#model selection\n",
    "mse_test_model_sel = []\n",
    "mse_cv_model_sel = []\n",
    "for degree in degrees:\n",
    "    print(\"degree\",degree)\n",
    "\n",
    "    x_train_poly = build_poly(x_train,degree)\n",
    "    x_cv_poly = build_poly(x_cv,degree)\n",
    "\n",
    "    mse,weight = ridge_regression(y_train,x_train_poly, lambda_)\n",
    "    mse_test_model_sel.append(mse)\n",
    "    \n",
    "    mse_cv = compute_loss(y_cv,x_cv_poly,weight)\n",
    "    mse_cv_model_sel.append(mse_cv)\n",
    "    \n",
    "p = plt.plot(degrees,mse_test_model_sel,degrees,mse_cv_model_sel)\n",
    "plt.title(\"Model Validation\") \n",
    "plt.legend(p, [\"Training error\",\"Cross Validation error\"])\n",
    "plt.show()\n",
    "    \n",
    "\"\"\"\n",
    "lambdas = np.logspace(-5, 0, 15)\n",
    "rmse_trs = []\n",
    "for lamb in lambdas:\n",
    "    w = ridge_regression(y, tX, lamb)\n",
    "\n",
    "    loss_train = compute_loss(y, tX, w)\n",
    "    rmse_train = np.sqrt(2*loss_train)\n",
    "\n",
    "    print(\"lambda={l:.3f}, proportion={p}, Training RMSE={tr:.3f}\".format(\n",
    "        l=lamb, p=ratio, tr=rmse_train))\n",
    "    rmse_trs.append(rmse_train)\n",
    "    \n",
    "p=plt.semilogx(lambdas,rmse_trs, marker='o')\n",
    "plt.title(\"Ridge regression\") \n",
    "plt.legend(p, [\"Training error\"])\n",
    "plt.xlabel('Lambdas')\n",
    "plt.ylabel('rmse')\n",
    "plt.show()\n",
    "\"\"\"\n",
    "#lambda=0.016, proportion=0.5, Training RMSE=0.883 \n",
    "#is the last one before rmse is going up\n",
    "#lambda_ = 0.016\n",
    "#mse,weight = ridge_regression(y_test,x_test, lambda_)\n",
    "#print(mse)\n",
    "#print(weight)"
   ]
  },
  {
   "cell_type": "code",
   "execution_count": null,
   "metadata": {
    "collapsed": true
   },
   "outputs": [],
   "source": []
  },
  {
   "cell_type": "code",
   "execution_count": 68,
   "metadata": {
    "collapsed": false
   },
   "outputs": [
    {
     "ename": "NameError",
     "evalue": "name 'math' is not defined",
     "output_type": "error",
     "traceback": [
      "\u001b[0;31m---------------------------------------------------------------------------\u001b[0m",
      "\u001b[0;31mNameError\u001b[0m                                 Traceback (most recent call last)",
      "\u001b[0;32m<ipython-input-68-9ed6e4921749>\u001b[0m in \u001b[0;36m<module>\u001b[0;34m()\u001b[0m\n\u001b[1;32m      3\u001b[0m \u001b[0mgamma\u001b[0m \u001b[0;34m=\u001b[0m \u001b[0;36m0.000001\u001b[0m\u001b[0;34m\u001b[0m\u001b[0m\n\u001b[1;32m      4\u001b[0m \u001b[0mlambda_\u001b[0m \u001b[0;34m=\u001b[0m \u001b[0;36m0.016\u001b[0m\u001b[0;34m\u001b[0m\u001b[0m\n\u001b[0;32m----> 5\u001b[0;31m \u001b[0mmse\u001b[0m\u001b[0;34m,\u001b[0m\u001b[0mweight\u001b[0m \u001b[0;34m=\u001b[0m \u001b[0mreg_logistic_regression\u001b[0m\u001b[0;34m(\u001b[0m\u001b[0my_test\u001b[0m\u001b[0;34m,\u001b[0m \u001b[0mx_test\u001b[0m\u001b[0;34m,\u001b[0m \u001b[0mlambda_\u001b[0m\u001b[0;34m,\u001b[0m \u001b[0mgamma\u001b[0m\u001b[0;34m,\u001b[0m \u001b[0mmax_iters\u001b[0m\u001b[0;34m)\u001b[0m\u001b[0;34m\u001b[0m\u001b[0m\n\u001b[0m\u001b[1;32m      6\u001b[0m \u001b[0mprint\u001b[0m\u001b[0;34m(\u001b[0m\u001b[0mmse\u001b[0m\u001b[0;34m)\u001b[0m\u001b[0;34m\u001b[0m\u001b[0m\n\u001b[1;32m      7\u001b[0m \u001b[0mprint\u001b[0m\u001b[0;34m(\u001b[0m\u001b[0mweight\u001b[0m\u001b[0;34m)\u001b[0m\u001b[0;34m\u001b[0m\u001b[0m\n",
      "\u001b[0;32m/Users/Mick/Documents/SV/MA3/pattern/project/PCML_Project1/scripts/implementations.py\u001b[0m in \u001b[0;36mreg_logistic_regression\u001b[0;34m(y, tx, lambda_, gamma, max_iters)\u001b[0m\n\u001b[1;32m    130\u001b[0m     \u001b[0;32mfor\u001b[0m \u001b[0miter\u001b[0m \u001b[0;32min\u001b[0m \u001b[0mrange\u001b[0m\u001b[0;34m(\u001b[0m\u001b[0mmax_iters\u001b[0m\u001b[0;34m)\u001b[0m\u001b[0;34m:\u001b[0m\u001b[0;34m\u001b[0m\u001b[0m\n\u001b[1;32m    131\u001b[0m         \u001b[0;31m# get loss and update w.\u001b[0m\u001b[0;34m\u001b[0m\u001b[0;34m\u001b[0m\u001b[0m\n\u001b[0;32m--> 132\u001b[0;31m         \u001b[0mloss\u001b[0m\u001b[0;34m,\u001b[0m \u001b[0mw\u001b[0m \u001b[0;34m=\u001b[0m \u001b[0mlearning_by_penalized_gradient\u001b[0m\u001b[0;34m(\u001b[0m\u001b[0my\u001b[0m\u001b[0;34m,\u001b[0m \u001b[0mtx\u001b[0m\u001b[0;34m,\u001b[0m \u001b[0mws\u001b[0m\u001b[0;34m,\u001b[0m \u001b[0mgamma\u001b[0m\u001b[0;34m,\u001b[0m \u001b[0mlambda_\u001b[0m\u001b[0;34m)\u001b[0m\u001b[0;34m\u001b[0m\u001b[0m\n\u001b[0m\u001b[1;32m    133\u001b[0m         \u001b[0;31m# log info\u001b[0m\u001b[0;34m\u001b[0m\u001b[0;34m\u001b[0m\u001b[0m\n\u001b[1;32m    134\u001b[0m         \u001b[0;32mif\u001b[0m \u001b[0miter\u001b[0m \u001b[0;34m%\u001b[0m \u001b[0;36m500\u001b[0m \u001b[0;34m==\u001b[0m \u001b[0;36m0\u001b[0m\u001b[0;34m:\u001b[0m\u001b[0;34m\u001b[0m\u001b[0m\n",
      "\u001b[0;32m/Users/Mick/Documents/SV/MA3/pattern/project/PCML_Project1/scripts/implementations.py\u001b[0m in \u001b[0;36mlearning_by_penalized_gradient\u001b[0;34m(y, tx, w, alpha, lambda_)\u001b[0m\n\u001b[1;32m     73\u001b[0m     \u001b[0mReturn\u001b[0m \u001b[0mthe\u001b[0m \u001b[0mloss\u001b[0m \u001b[0;32mand\u001b[0m \u001b[0mupdated\u001b[0m \u001b[0mw\u001b[0m\u001b[0;34m.\u001b[0m\u001b[0;34m\u001b[0m\u001b[0m\n\u001b[1;32m     74\u001b[0m     \"\"\"\n\u001b[0;32m---> 75\u001b[0;31m     \u001b[0mloss\u001b[0m\u001b[0;34m,\u001b[0m \u001b[0mgradient\u001b[0m\u001b[0;34m,\u001b[0m \u001b[0mH\u001b[0m \u001b[0;34m=\u001b[0m \u001b[0mpenalized_logistic_regression\u001b[0m\u001b[0;34m(\u001b[0m\u001b[0my\u001b[0m\u001b[0;34m,\u001b[0m\u001b[0mtx\u001b[0m\u001b[0;34m,\u001b[0m\u001b[0mw\u001b[0m\u001b[0;34m,\u001b[0m\u001b[0mlambda_\u001b[0m\u001b[0;34m)\u001b[0m\u001b[0;34m\u001b[0m\u001b[0m\n\u001b[0m\u001b[1;32m     76\u001b[0m     \u001b[0mnew_w\u001b[0m \u001b[0;34m=\u001b[0m \u001b[0mw\u001b[0m \u001b[0;34m-\u001b[0m \u001b[0malpha\u001b[0m\u001b[0;34m*\u001b[0m\u001b[0mnp\u001b[0m\u001b[0;34m.\u001b[0m\u001b[0mlinalg\u001b[0m\u001b[0;34m.\u001b[0m\u001b[0minv\u001b[0m\u001b[0;34m(\u001b[0m\u001b[0mH\u001b[0m\u001b[0;34m)\u001b[0m \u001b[0;34m@\u001b[0m \u001b[0mgradient\u001b[0m\u001b[0;34m\u001b[0m\u001b[0m\n\u001b[1;32m     77\u001b[0m     \u001b[0mw\u001b[0m \u001b[0;34m=\u001b[0m \u001b[0mnew_w\u001b[0m\u001b[0;34m\u001b[0m\u001b[0m\n",
      "\u001b[0;32m/Users/Mick/Documents/SV/MA3/pattern/project/PCML_Project1/scripts/implementations.py\u001b[0m in \u001b[0;36mpenalized_logistic_regression\u001b[0;34m(y, tx, w, lambda_)\u001b[0m\n\u001b[1;32m     64\u001b[0m     \u001b[0mpen\u001b[0m \u001b[0;34m=\u001b[0m \u001b[0mlambda_\u001b[0m\u001b[0;34m*\u001b[0m\u001b[0mnp\u001b[0m\u001b[0;34m.\u001b[0m\u001b[0msum\u001b[0m\u001b[0;34m(\u001b[0m\u001b[0mnp\u001b[0m\u001b[0;34m.\u001b[0m\u001b[0mpower\u001b[0m\u001b[0;34m(\u001b[0m\u001b[0mw\u001b[0m\u001b[0;34m,\u001b[0m\u001b[0;36m2\u001b[0m\u001b[0;34m)\u001b[0m\u001b[0;34m)\u001b[0m\u001b[0;34m\u001b[0m\u001b[0m\n\u001b[1;32m     65\u001b[0m     \u001b[0mloss\u001b[0m \u001b[0;34m=\u001b[0m \u001b[0mcalculate_loss\u001b[0m\u001b[0;34m(\u001b[0m\u001b[0my\u001b[0m\u001b[0;34m,\u001b[0m\u001b[0mtx\u001b[0m\u001b[0;34m,\u001b[0m\u001b[0mw\u001b[0m\u001b[0;34m)\u001b[0m \u001b[0;34m+\u001b[0m \u001b[0mpen\u001b[0m\u001b[0;34m\u001b[0m\u001b[0m\n\u001b[0;32m---> 66\u001b[0;31m     \u001b[0mgradient\u001b[0m \u001b[0;34m=\u001b[0m \u001b[0mcalculate_gradient\u001b[0m\u001b[0;34m(\u001b[0m\u001b[0my\u001b[0m\u001b[0;34m,\u001b[0m\u001b[0mtx\u001b[0m\u001b[0;34m,\u001b[0m\u001b[0mw\u001b[0m\u001b[0;34m)\u001b[0m \u001b[0;34m+\u001b[0m \u001b[0mlambda_\u001b[0m \u001b[0;34m*\u001b[0m \u001b[0;36m2\u001b[0m \u001b[0;34m*\u001b[0m \u001b[0mw\u001b[0m\u001b[0;34m\u001b[0m\u001b[0m\n\u001b[0m\u001b[1;32m     67\u001b[0m     \u001b[0mH\u001b[0m \u001b[0;34m=\u001b[0m \u001b[0mcalculate_hessian\u001b[0m\u001b[0;34m(\u001b[0m\u001b[0my\u001b[0m\u001b[0;34m,\u001b[0m\u001b[0mtx\u001b[0m\u001b[0;34m,\u001b[0m\u001b[0mw\u001b[0m\u001b[0;34m)\u001b[0m\u001b[0;34m\u001b[0m\u001b[0m\n\u001b[1;32m     68\u001b[0m     \u001b[0;32mreturn\u001b[0m \u001b[0mloss\u001b[0m\u001b[0;34m,\u001b[0m\u001b[0mgradient\u001b[0m\u001b[0;34m,\u001b[0m\u001b[0mH\u001b[0m\u001b[0;34m\u001b[0m\u001b[0m\n",
      "\u001b[0;32m/Users/Mick/Documents/SV/MA3/pattern/project/PCML_Project1/scripts/implementations.py\u001b[0m in \u001b[0;36mcalculate_gradient\u001b[0;34m(y, tx, w)\u001b[0m\n\u001b[1;32m     58\u001b[0m \u001b[0;32mdef\u001b[0m \u001b[0mcalculate_gradient\u001b[0m\u001b[0;34m(\u001b[0m\u001b[0my\u001b[0m\u001b[0;34m,\u001b[0m \u001b[0mtx\u001b[0m\u001b[0;34m,\u001b[0m \u001b[0mw\u001b[0m\u001b[0;34m)\u001b[0m\u001b[0;34m:\u001b[0m\u001b[0;34m\u001b[0m\u001b[0m\n\u001b[1;32m     59\u001b[0m     \u001b[0;34m\"\"\"compute the gradient of loss.\"\"\"\u001b[0m\u001b[0;34m\u001b[0m\u001b[0m\n\u001b[0;32m---> 60\u001b[0;31m     \u001b[0;32mreturn\u001b[0m \u001b[0mtx\u001b[0m\u001b[0;34m.\u001b[0m\u001b[0mT\u001b[0m\u001b[0;34m@\u001b[0m\u001b[0;34m(\u001b[0m\u001b[0msigmoid\u001b[0m\u001b[0;34m(\u001b[0m\u001b[0mtx\u001b[0m \u001b[0;34m@\u001b[0m \u001b[0mw\u001b[0m\u001b[0;34m)\u001b[0m \u001b[0;34m-\u001b[0m \u001b[0my\u001b[0m\u001b[0;34m)\u001b[0m\u001b[0;34m\u001b[0m\u001b[0m\n\u001b[0m\u001b[1;32m     61\u001b[0m \u001b[0;34m\u001b[0m\u001b[0m\n\u001b[1;32m     62\u001b[0m \u001b[0;32mdef\u001b[0m \u001b[0mpenalized_logistic_regression\u001b[0m\u001b[0;34m(\u001b[0m\u001b[0my\u001b[0m\u001b[0;34m,\u001b[0m \u001b[0mtx\u001b[0m\u001b[0;34m,\u001b[0m \u001b[0mw\u001b[0m\u001b[0;34m,\u001b[0m \u001b[0mlambda_\u001b[0m\u001b[0;34m)\u001b[0m\u001b[0;34m:\u001b[0m\u001b[0;34m\u001b[0m\u001b[0m\n",
      "\u001b[0;32m/Users/Mick/Documents/SV/MA3/pattern/project/PCML_Project1/scripts/implementations.py\u001b[0m in \u001b[0;36msigmoid\u001b[0;34m(t)\u001b[0m\n\u001b[1;32m     36\u001b[0m \u001b[0;32mdef\u001b[0m \u001b[0msigmoid\u001b[0m\u001b[0;34m(\u001b[0m\u001b[0mt\u001b[0m\u001b[0;34m)\u001b[0m\u001b[0;34m:\u001b[0m\u001b[0;34m\u001b[0m\u001b[0m\n\u001b[1;32m     37\u001b[0m     \u001b[0;34m\"\"\"apply sigmoid function on t.\"\"\"\u001b[0m\u001b[0;34m\u001b[0m\u001b[0m\n\u001b[0;32m---> 38\u001b[0;31m     \u001b[0;32mreturn\u001b[0m \u001b[0;36m1\u001b[0m\u001b[0;34m/\u001b[0m\u001b[0;34m(\u001b[0m\u001b[0;36m1\u001b[0m\u001b[0;34m+\u001b[0m\u001b[0mnp\u001b[0m\u001b[0;34m.\u001b[0m\u001b[0mpower\u001b[0m\u001b[0;34m(\u001b[0m\u001b[0mmath\u001b[0m\u001b[0;34m.\u001b[0m\u001b[0me\u001b[0m\u001b[0;34m,\u001b[0m\u001b[0;34m-\u001b[0m\u001b[0mt\u001b[0m\u001b[0;34m)\u001b[0m\u001b[0;34m)\u001b[0m\u001b[0;34m\u001b[0m\u001b[0m\n\u001b[0m\u001b[1;32m     39\u001b[0m \u001b[0;34m\u001b[0m\u001b[0m\n\u001b[1;32m     40\u001b[0m \u001b[0;32mdef\u001b[0m \u001b[0mcalculate_hessian\u001b[0m\u001b[0;34m(\u001b[0m\u001b[0my\u001b[0m\u001b[0;34m,\u001b[0m \u001b[0mtx\u001b[0m\u001b[0;34m,\u001b[0m \u001b[0mw\u001b[0m\u001b[0;34m)\u001b[0m\u001b[0;34m:\u001b[0m\u001b[0;34m\u001b[0m\u001b[0m\n",
      "\u001b[0;31mNameError\u001b[0m: name 'math' is not defined"
     ]
    }
   ],
   "source": [
    "#************** logistic regression ****************#\n",
    "max_iters = 1\n",
    "gamma = 0.000001\n",
    "lambda_ = 0.016\n",
    "mse,weight = reg_logistic_regression(y_test, x_test, lambda_, gamma, max_iters)\n",
    "print(mse)\n",
    "print(weight)"
   ]
  },
  {
   "cell_type": "markdown",
   "metadata": {},
   "source": [
    "## Test of methods"
   ]
  },
  {
   "cell_type": "code",
   "execution_count": null,
   "metadata": {
    "collapsed": false
   },
   "outputs": [],
   "source": [
    "mse_train = compute_loss(y_train,x_train,weight)\n",
    "print(mse_train)\n",
    "#calculate pourcentage of prediction\n",
    "y_pred = predict_labels(weight, x_test)\n",
    "y_t = y_test * y_pred\n",
    "y_correct = np.where(y_t==1)\n",
    "print('Correct pourcentage predition =',np.shape(y_correct)[1]/np.shape(y_test)[0])"
   ]
  },
  {
   "cell_type": "markdown",
   "metadata": {},
   "source": [
    "## Generate predictions and save ouput in csv format for submission:"
   ]
  },
  {
   "cell_type": "code",
   "execution_count": null,
   "metadata": {
    "collapsed": false
   },
   "outputs": [],
   "source": [
    "DATA_TEST_PATH = '../data/test.csv' # TODO: download train data and supply path here \n",
    "_, tX_test, ids_test = load_csv_data(DATA_TEST_PATH)"
   ]
  },
  {
   "cell_type": "code",
   "execution_count": null,
   "metadata": {
    "collapsed": false
   },
   "outputs": [],
   "source": [
    "OUTPUT_PATH = '' # TODO: fill in desired name of output file for submission\n",
    "y_pred = predict_labels(weights, tX_test)\n",
    "create_csv_submission(ids_test, y_pred, OUTPUT_PATH)"
   ]
  }
 ],
 "metadata": {
  "anaconda-cloud": {},
  "kernelspec": {
   "display_name": "Python [conda root]",
   "language": "python",
   "name": "conda-root-py"
  },
  "language_info": {
   "codemirror_mode": {
    "name": "ipython",
    "version": 3
   },
   "file_extension": ".py",
   "mimetype": "text/x-python",
   "name": "python",
   "nbconvert_exporter": "python",
   "pygments_lexer": "ipython3",
   "version": "3.5.2"
  }
 },
 "nbformat": 4,
 "nbformat_minor": 0
}
