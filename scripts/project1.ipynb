{
 "cells": [
  {
   "cell_type": "code",
   "execution_count": 11,
   "metadata": {
    "collapsed": false
   },
   "outputs": [],
   "source": [
    "# Useful starting lines\n",
    "%matplotlib inline\n",
    "import numpy as np\n",
    "import matplotlib.pyplot as plt\n",
    "from helpers import *\n",
    "%load_ext autoreload\n",
    "%autoreload 2"
   ]
  },
  {
   "cell_type": "markdown",
   "metadata": {},
   "source": [
    "## Load the training data into feature matrix, class labels, and event ids:"
   ]
  },
  {
   "cell_type": "code",
   "execution_count": 12,
   "metadata": {
    "collapsed": false
   },
   "outputs": [],
   "source": [
    "from proj1_helpers import *\n",
    "DATA_TRAIN_PATH = '../data/train.csv'\n",
    "y, tX, ids = load_csv_data(DATA_TRAIN_PATH)"
   ]
  },
  {
   "cell_type": "markdown",
   "metadata": {},
   "source": [
    "## Do your thing crazy machine learning thing here :) ..."
   ]
  },
  {
   "cell_type": "code",
   "execution_count": 3,
   "metadata": {
    "collapsed": true
   },
   "outputs": [],
   "source": [
    "def compute_loss(y, tx, w):\n",
    "    return np.sum(np.power(y- tx @ w,2))/(2*len(y))"
   ]
  },
  {
   "cell_type": "code",
   "execution_count": 4,
   "metadata": {
    "collapsed": true
   },
   "outputs": [],
   "source": [
    "def compute_gradient(y, tx, w):\n",
    "    e = y - tx @ w;\n",
    "    return -(tx.T @ e)/len(y);"
   ]
  },
  {
   "cell_type": "code",
   "execution_count": 5,
   "metadata": {
    "collapsed": true
   },
   "outputs": [],
   "source": [
    "def build_poly(x, degree):\n",
    "    \"\"\"polynomial basis functions for input data x, for j=0 up to j=degree.\"\"\"\n",
    "    # ***************************************************\n",
    "    # INSERT YOUR CODE HERE\n",
    "    # polynomial basis function: TODO\n",
    "    # this function should return the matrix formed\n",
    "    # by applying the polynomial basis to the input data\n",
    "    # ***************************************************\n",
    "    x_poly = np.zeros((len(x),degree+1))\n",
    "    for i in range(degree+1):\n",
    "        x_poly[:,i] = np.power(x,i)\n",
    "        \n",
    "    return x_poly;"
   ]
  },
  {
   "cell_type": "code",
   "execution_count": 6,
   "metadata": {
    "collapsed": true
   },
   "outputs": [],
   "source": [
    "def sigmoid(t):\n",
    "    \"\"\"apply sigmoid function on t.\"\"\"\n",
    "    # ***************************************************\n",
    "    # INSERT YOUR CODE HERE\n",
    "    # TODO\n",
    "    # ***************************************************\n",
    "    return 1/(1+np.power(math.e,-t))"
   ]
  },
  {
   "cell_type": "code",
   "execution_count": 7,
   "metadata": {
    "collapsed": true
   },
   "outputs": [],
   "source": [
    "def calculate_loss(y, tx, w):\n",
    "    \"\"\"compute the cost by negative log likelihood.\"\"\"\n",
    "    # ***************************************************\n",
    "    # INSERT YOUR CODE HERE\n",
    "    # TODO\n",
    "    # ***************************************************\n",
    "    return np.sum(np.log(1+np.exp(tx @ w)) - y*(tx @ w))"
   ]
  },
  {
   "cell_type": "code",
   "execution_count": 8,
   "metadata": {
    "collapsed": true
   },
   "outputs": [],
   "source": [
    "def calculate_gradient(y, tx, w):\n",
    "    \"\"\"compute the gradient of loss.\"\"\"\n",
    "    # ***************************************************\n",
    "    # INSERT YOUR CODE HERE\n",
    "    # TODO\n",
    "    # ***************************************************\n",
    "    return tx.T@(sigmoid(tx @ w) - y)"
   ]
  },
  {
   "cell_type": "code",
   "execution_count": 9,
   "metadata": {
    "collapsed": true
   },
   "outputs": [],
   "source": [
    "def penalized_logistic_regression(y, tx, w, lambda_):\n",
    "    \"\"\"return the loss, gradient, and hessian.\"\"\"\n",
    "    # ***************************************************\n",
    "    # INSERT YOUR CODE HERE\n",
    "    # return loss, gradient, and hessian: TODO\n",
    "    # ***************************************************\n",
    "    pen = lambda_*np.sum(np.power(w,2))\n",
    "    loss = calculate_loss(y,tx,w) + pen\n",
    "    gradient = calculate_gradient(y,tx,w) + lambda_ * 2 * w\n",
    "    H = calculate_hessian(y,tx,w)\n",
    "    \n",
    "    return loss,gradient,H"
   ]
  },
  {
   "cell_type": "code",
   "execution_count": 10,
   "metadata": {
    "collapsed": true
   },
   "outputs": [],
   "source": [
    "def learning_by_penalized_gradient(y, tx, w, gamma, lambda_):\n",
    "    \"\"\"\n",
    "    Do one step of gradient descent, using the penalized logistic regression.\n",
    "    Return the loss and updated w.\n",
    "    \"\"\"\n",
    "    # ***************************************************\n",
    "    # INSERT YOUR CODE HERE\n",
    "    # return loss, gradient and hessian: TODO\n",
    "    # ***************************************************\n",
    "    loss, gradient, H = penalized_logistic_regression(y,tx,w,lambda_)\n",
    "    # ***************************************************\n",
    "    # INSERT YOUR CODE HERE\n",
    "    # update w: TODO\n",
    "    # ***************************************************\n",
    "    new_w = w - gamma*np.linalg.inv(H) @ gradient\n",
    "    w = new_w\n",
    "    return loss, w"
   ]
  },
  {
   "cell_type": "markdown",
   "metadata": {},
   "source": [
    "## methods"
   ]
  },
  {
   "cell_type": "code",
   "execution_count": 12,
   "metadata": {
    "collapsed": true
   },
   "outputs": [],
   "source": [
    "def least_squares(y, tx):\n",
    "    weight = np.linalg.solve(tx.T @ tx,tx.T @ y)\n",
    "    mse = compute_loss(y,tx,weight)\n",
    "    return mse, weight"
   ]
  },
  {
   "cell_type": "code",
   "execution_count": 13,
   "metadata": {
    "collapsed": true
   },
   "outputs": [],
   "source": [
    "def least_squares_GD(y, tx, initial_w, max_iters, gamma): \n",
    "    \"\"\"Gradient descent algorithm.\"\"\"\n",
    "    # Define parameters to store w and loss\n",
    "    ws = [initial_w]\n",
    "    losses = []\n",
    "    w = initial_w\n",
    "    for n_iter in range(max_iters):\n",
    "        # ***************************************************\n",
    "        # INSERT YOUR CODE HERE\n",
    "        # TODO: compute gradient and loss\n",
    "        # ***************************************************\n",
    "        gradient = compute_gradient(y,tx,w);\n",
    "        loss = compute_loss(y,tx,w);\n",
    "        # ***************************************************\n",
    "        # INSERT YOUR CODE HERE\n",
    "        # TODO: update w by gradient\n",
    "        # ***************************************************\n",
    "        w = w  - gamma*gradient;\n",
    "        # store w and loss\n",
    "        ws.append(w)\n",
    "        losses.append(loss)\n",
    "\n",
    "    return losses, ws\n",
    "    "
   ]
  },
  {
   "cell_type": "code",
   "execution_count": 14,
   "metadata": {
    "collapsed": true
   },
   "outputs": [],
   "source": [
    "def least_squares_SGD(y,tx,initial_w,batch_size,max_iters,gamma):\n",
    "    \n",
    "    batch = batch_iter(y, tx, batch_size, shuffle=True);\n",
    "    ws = [initial_w]\n",
    "    losses = []\n",
    "    w = initial_w\n",
    "    for n_iter in range(max_iters):\n",
    "        for y_batch, tx_batch in batch:\n",
    "            # ***************************************************\n",
    "            # INSERT YOUR CODE HERE\n",
    "            # TODO: compute gradient and loss\n",
    "            # ***************************************************\n",
    "            gradient = compute_gradient(y_batch,tx_batch,w);\n",
    "            loss = compute_loss(y_batch,tx_batch,w);\n",
    "            # ***************************************************\n",
    "            # INSERT YOUR CODE HERE\n",
    "            # TODO: update w by gradient\n",
    "            # ***************************************************\n",
    "            w = w  - gamma*gradient;\n",
    "            # store w and loss\n",
    "            ws.append(np.copy(w));\n",
    "            losses.append(loss);\n",
    "\n",
    "    return losses, ws"
   ]
  },
  {
   "cell_type": "code",
   "execution_count": 15,
   "metadata": {
    "collapsed": true
   },
   "outputs": [],
   "source": [
    "def ridge_regression(y, tx, lamb):\n",
    "    \"\"\"implement ridge regression.\"\"\"\n",
    "    # ***************************************************\n",
    "    # INSERT YOUR CODE HERE\n",
    "    # ridge regression: TODO\n",
    "    # ***************************************************\n",
    "    m = np.shape(tx)[1]\n",
    "    M = np.eye(m)\n",
    "    #M[0,0] = 0; #depends on the matrix tx we give\n",
    "    d_lamb = lamb*2*m\n",
    "    weight = np.linalg.solve(tx.T @ tx + (d_lamb * M),tx.T @ y)\n",
    "    \n",
    "    mse = compute_loss(y, tX_clean, weight)\n",
    "    \n",
    "    return mse,weight;"
   ]
  },
  {
   "cell_type": "code",
   "execution_count": 16,
   "metadata": {
    "collapsed": true
   },
   "outputs": [],
   "source": [
    "def reg_logistic_regression(y, tx, lambda_ , gamma, max_iters):\n",
    "    # init parameters\n",
    "    threshold = 1e-8\n",
    "    losses = []\n",
    "    w = np.zeros((tx.shape[1], 1))\n",
    "\n",
    "    # start the logistic regression\n",
    "    for iter in range(max_iters):\n",
    "        # get loss and update w.\n",
    "        loss, w = learning_by_penalized_gradient(y, tx, w, gamma, lambda_)\n",
    "        # log info\n",
    "        if iter % 500 == 0:\n",
    "            print(\"Current iteration={i}, the loss={l}\".format(i=iter, l=loss))\n",
    "        # converge criteria\n",
    "        losses.append(loss)\n",
    "        if len(losses) > 1 and np.abs(losses[-1] - losses[-2]) < threshold:\n",
    "            break\n",
    "    # visualization\n",
    "    visualization(y, x, mean_x, std_x, w, \"classification_by_logistic_regression_penalized_gradient_descent\")\n",
    "    print(\"The loss={l}\".format(l=calculate_loss(y, tx, w)))\n",
    "    "
   ]
  },
  {
   "cell_type": "code",
   "execution_count": 17,
   "metadata": {
    "collapsed": true
   },
   "outputs": [],
   "source": [
    "def logistic_regression(y, tx, gamma, max_iters):\n",
    "    return reg_logisitc_regression(y, tx,0,gamma, max_iters)"
   ]
  },
  {
   "cell_type": "markdown",
   "metadata": {},
   "source": [
    "## Cleaning of data and visualisation"
   ]
  },
  {
   "cell_type": "code",
   "execution_count": 18,
   "metadata": {
    "collapsed": false,
    "scrolled": true
   },
   "outputs": [],
   "source": [
    "#Clean data\n",
    "\n",
    "#a = np.array([[3.0,8.0,5.0,-999.0,1.0],[7.0,4.0,1.0,2.0,6.0]])\n",
    "\n",
    "#remove -999 to the mean of the colum\n",
    "for column in tX.T:\n",
    "    clean = column[np.where(column != -999)]\n",
    "    mean = np.mean(clean)\n",
    "    column[np.where(column == -999)] = mean\n",
    "    \n",
    "tX_clean = tX\n",
    "for column in tX_clean.T:\n",
    "    mean = np.mean(column)\n",
    "    var = np.var(column)\n",
    "    if(var == 0):\n",
    "        var =1\n",
    "    column[:] = (column[:] - mean)/var\n"
   ]
  },
  {
   "cell_type": "markdown",
   "metadata": {},
   "source": [
    "## Test of the different methods"
   ]
  },
  {
   "cell_type": "code",
   "execution_count": 18,
   "metadata": {
    "collapsed": false
   },
   "outputs": [
    {
     "name": "stdout",
     "output_type": "stream",
     "text": [
      "0.38991616861\n",
      "[  5.08222097e-01  -9.00300387e+00  -1.07584597e+01  -7.01363484e-02\n",
      "   2.04988435e-02   1.92921914e+01   9.33521771e-03   2.20787357e-01\n",
      "  -6.27003319e-01  -3.81089031e+04  -1.58930593e-01   1.40920349e-01\n",
      "   1.64542195e-02   1.43396556e+03  -9.46324146e-04  -1.50910375e-03\n",
      "   1.39223926e+03  -1.08936158e-03   4.57406193e-03   3.40983436e+00\n",
      "   1.69222382e-03  -5.94570589e+00   4.08148906e-02  -2.23628996e+00\n",
      "   8.99758622e-04   2.65210390e-04  -6.30616007e-01   1.70555214e-03\n",
      "  -1.70612895e-03   2.73475607e+04]\n"
     ]
    }
   ],
   "source": [
    "#*********************** least squares *******************#\n",
    "#mse,weight = least_squares(y,tX)\n",
    "mse_clean,weight_clean = least_squares(y,tX_clean)\n",
    "print(mse_clean)\n",
    "print(weight_clean)"
   ]
  },
  {
   "cell_type": "code",
   "execution_count": 22,
   "metadata": {
    "collapsed": false
   },
   "outputs": [
    {
     "name": "stdout",
     "output_type": "stream",
     "text": [
      "0.433581228877\n",
      "[ -5.48557503e-04  -2.17980257e-02  -1.34270410e-03   6.43124287e-03\n",
      "   7.83168238e-02   8.73135654e-04  -3.98162218e-02   6.89524048e-02\n",
      "  -6.10240715e-03   2.62227133e-03  -1.48961241e-01   2.46030594e-01\n",
      "   1.85793269e-02   2.20884226e-02  -2.84550363e-03  -3.80033446e-03\n",
      "   1.07377766e-02  -4.21963511e-04   3.29371979e-03   7.65914700e-04\n",
      "   6.17622665e-03   1.78256656e-03   7.62812533e-02   6.22203185e-03\n",
      "   8.44205888e-04  -1.31532870e-04  -5.31550784e-04   1.75260216e-03\n",
      "  -1.57908303e-03   1.95521398e-03]\n"
     ]
    }
   ],
   "source": [
    "#******************** gradient descent *******************#\n",
    "w_initial = np.zeros([tX.shape[1]])\n",
    "max_iters = 50\n",
    "gamma = 0.08\n",
    "mse,weight = least_squares_GD(y,tX_clean,w_initial,max_iters,gamma)\n",
    "print(mse[max_iters-1])\n",
    "print(weight[max_iters-1])"
   ]
  },
  {
   "cell_type": "code",
   "execution_count": 23,
   "metadata": {
    "collapsed": false,
    "scrolled": false
   },
   "outputs": [],
   "source": [
    "#************** stochastic gradient descent ****************#\n",
    "#w_initial = np.zeros([tX.shape[1]])\n",
    "#batch_size = 1\n",
    "#max_iters = 1\n",
    "#gamma = 0.08\n",
    "#mse_SGD,weight_SGD = least_squares_SGD(y,tX_clean,w_initial,batch_size,max_iters,gamma)\n",
    "#print(mse_SGD)\n"
   ]
  },
  {
   "cell_type": "code",
   "execution_count": 27,
   "metadata": {
    "collapsed": false
   },
   "outputs": [
    {
     "name": "stdout",
     "output_type": "stream",
     "text": [
      "0.390120020505\n",
      "[  3.02159224e-01  -8.87564082e+00  -1.03720589e+01   9.87786297e-02\n",
      "   4.54173023e-02   1.09295682e+01  -9.11540573e-03   2.17908542e-01\n",
      "  -6.76441049e-01   2.06360638e-01  -1.58080828e-01   1.42150471e-01\n",
      "   1.57512972e-02   4.04320466e+00  -1.03959072e-03  -1.53968489e-03\n",
      "   6.21374322e+00  -9.44788851e-04   4.57984978e-03   3.32115875e+00\n",
      "   1.90672921e-03  -4.42669972e+00   4.02143045e-02  -1.86363400e+00\n",
      "   8.28920681e-04   2.76459156e-04  -4.68179488e-01   1.69145464e-03\n",
      "  -1.66220167e-03  -2.38696390e-01]\n"
     ]
    }
   ],
   "source": [
    "#************** ridge regression ****************#\n",
    "\n",
    "#degree = 7\n",
    "#x_train_poly = build_poly(x_train,degree);\n",
    "#x_test_poly = build_poly(x_test,degree);\n",
    "\n",
    "\"\"\"\n",
    "lambdas = np.logspace(-5, 0, 15)\n",
    "rmse_trs = []\n",
    "for lamb in lambdas:\n",
    "    w = ridge_regression(y, tX, lamb)\n",
    "\n",
    "    loss_train = compute_loss(y, tX, w)\n",
    "    rmse_train = np.sqrt(2*loss_train)\n",
    "\n",
    "    print(\"lambda={l:.3f}, proportion={p}, Training RMSE={tr:.3f}\".format(\n",
    "        l=lamb, p=ratio, tr=rmse_train))\n",
    "    rmse_trs.append(rmse_train)\n",
    "    \n",
    "p=plt.semilogx(lambdas,rmse_trs, marker='o')\n",
    "plt.title(\"Ridge regression\") \n",
    "plt.legend(p, [\"Training error\"])\n",
    "plt.xlabel('Lambdas')\n",
    "plt.ylabel('rmse')\n",
    "plt.show()\n",
    "\"\"\"\n",
    "\n",
    "#lambda=0.016, proportion=0.5, Training RMSE=0.883 \n",
    "#is the last one before rmse is going up\n",
    "lambda_ = 0.016\n",
    "mse,weight = ridge_regression(y, tX_clean, lambda_)\n",
    "print(mse)\n",
    "print(weight)"
   ]
  },
  {
   "cell_type": "code",
   "execution_count": 1,
   "metadata": {
    "collapsed": false
   },
   "outputs": [
    {
     "ename": "NameError",
     "evalue": "name 'reg_logistic_regression' is not defined",
     "output_type": "error",
     "traceback": [
      "\u001b[0;31m---------------------------------------------------------------------------\u001b[0m",
      "\u001b[0;31mNameError\u001b[0m                                 Traceback (most recent call last)",
      "\u001b[0;32m<ipython-input-1-dc92db7af91d>\u001b[0m in \u001b[0;36m<module>\u001b[0;34m()\u001b[0m\n\u001b[1;32m      3\u001b[0m \u001b[0mgamma\u001b[0m \u001b[0;34m=\u001b[0m \u001b[0;36m0.000001\u001b[0m\u001b[0;34m\u001b[0m\u001b[0m\n\u001b[1;32m      4\u001b[0m \u001b[0mlambda_\u001b[0m \u001b[0;34m=\u001b[0m \u001b[0;36m0.016\u001b[0m\u001b[0;34m\u001b[0m\u001b[0m\n\u001b[0;32m----> 5\u001b[0;31m \u001b[0mmse\u001b[0m\u001b[0;34m,\u001b[0m\u001b[0mweight\u001b[0m \u001b[0;34m=\u001b[0m \u001b[0mreg_logistic_regression\u001b[0m\u001b[0;34m(\u001b[0m\u001b[0my\u001b[0m\u001b[0;34m,\u001b[0m \u001b[0mtX_clean\u001b[0m\u001b[0;34m,\u001b[0m \u001b[0mlambda_\u001b[0m\u001b[0;34m,\u001b[0m \u001b[0mgamma\u001b[0m\u001b[0;34m,\u001b[0m \u001b[0mmax_iters\u001b[0m\u001b[0;34m)\u001b[0m\u001b[0;34m\u001b[0m\u001b[0m\n\u001b[0m\u001b[1;32m      6\u001b[0m \u001b[0mprint\u001b[0m\u001b[0;34m(\u001b[0m\u001b[0mmse\u001b[0m\u001b[0;34m)\u001b[0m\u001b[0;34m\u001b[0m\u001b[0m\n\u001b[1;32m      7\u001b[0m \u001b[0mprint\u001b[0m\u001b[0;34m(\u001b[0m\u001b[0mweight\u001b[0m\u001b[0;34m)\u001b[0m\u001b[0;34m\u001b[0m\u001b[0m\n",
      "\u001b[0;31mNameError\u001b[0m: name 'reg_logistic_regression' is not defined"
     ]
    }
   ],
   "source": [
    "#************** logistic regression ****************#\n",
    "max_iters = 1\n",
    "gamma = 0.000001\n",
    "lambda_ = 0.016\n",
    "mse,weight = reg_logistic_regression(y, tX_clean, lambda_, gamma, max_iters)\n",
    "print(mse)\n",
    "print(weight)"
   ]
  },
  {
   "cell_type": "markdown",
   "metadata": {},
   "source": [
    "## Generate predictions and save ouput in csv format for submission:"
   ]
  },
  {
   "cell_type": "code",
   "execution_count": 10,
   "metadata": {
    "collapsed": false
   },
   "outputs": [],
   "source": [
    "DATA_TEST_PATH = '' # TODO: download train data and supply path here \n",
    "_, tX_test, ids_test = load_csv_data(DATA_TEST_PATH)"
   ]
  },
  {
   "cell_type": "code",
   "execution_count": 31,
   "metadata": {
    "collapsed": false
   },
   "outputs": [],
   "source": [
    "OUTPUT_PATH = '' # TODO: fill in desired name of output file for submission\n",
    "y_pred = predict_labels(weights, tX_test)\n",
    "create_csv_submission(ids_test, y_pred, OUTPUT_PATH)"
   ]
  },
  {
   "cell_type": "code",
   "execution_count": null,
   "metadata": {
    "collapsed": true
   },
   "outputs": [],
   "source": []
  }
 ],
 "metadata": {
  "anaconda-cloud": {},
  "kernelspec": {
   "display_name": "Python [conda root]",
   "language": "python",
   "name": "conda-root-py"
  },
  "language_info": {
   "codemirror_mode": {
    "name": "ipython",
    "version": 3
   },
   "file_extension": ".py",
   "mimetype": "text/x-python",
   "name": "python",
   "nbconvert_exporter": "python",
   "pygments_lexer": "ipython3",
   "version": "3.5.2"
  }
 },
 "nbformat": 4,
 "nbformat_minor": 0
}
